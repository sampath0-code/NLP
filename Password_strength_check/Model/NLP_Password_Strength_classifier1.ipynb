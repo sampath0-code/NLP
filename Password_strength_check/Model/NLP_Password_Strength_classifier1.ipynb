{
  "cells": [
    {
      "cell_type": "markdown",
      "metadata": {
        "id": "view-in-github",
        "colab_type": "text"
      },
      "source": [
        "<a href=\"https://colab.research.google.com/github/sampath0-code/NLP/blob/main/NLP_Password_Strength_classifier.ipynb\" target=\"_parent\"><img src=\"https://colab.research.google.com/assets/colab-badge.svg\" alt=\"Open In Colab\"/></a>"
      ]
    },
    {
      "cell_type": "code",
      "execution_count": 45,
      "metadata": {
        "id": "d5F__57Ezask"
      },
      "outputs": [],
      "source": []
    },
    {
      "cell_type": "code",
      "source": [
        "import pandas as pd\n",
        "import numpy as np\n",
        "import seaborn as sns\n",
        "import warnings\n",
        "warnings.filterwarnings('ignore')"
      ],
      "metadata": {
        "id": "LoNmBN9ZOkxt"
      },
      "execution_count": 13,
      "outputs": []
    },
    {
      "cell_type": "code",
      "source": [
        "data=pd.read_csv('/content/passwords.csv',error_bad_lines=False)\n",
        "data.head()"
      ],
      "metadata": {
        "colab": {
          "base_uri": "https://localhost:8080/",
          "height": 296
        },
        "id": "mVF3UZf8K5Su",
        "outputId": "42884d6c-c6aa-4ec0-f1d7-c39cc6b4c929"
      },
      "execution_count": 14,
      "outputs": [
        {
          "output_type": "stream",
          "name": "stderr",
          "text": [
            "b'Skipping line 2810: expected 2 fields, saw 5\\nSkipping line 4641: expected 2 fields, saw 5\\nSkipping line 7171: expected 2 fields, saw 5\\nSkipping line 11220: expected 2 fields, saw 5\\nSkipping line 13809: expected 2 fields, saw 5\\nSkipping line 14132: expected 2 fields, saw 5\\nSkipping line 14293: expected 2 fields, saw 5\\nSkipping line 14865: expected 2 fields, saw 5\\nSkipping line 17419: expected 2 fields, saw 5\\nSkipping line 22801: expected 2 fields, saw 5\\nSkipping line 25001: expected 2 fields, saw 5\\nSkipping line 26603: expected 2 fields, saw 5\\nSkipping line 26742: expected 2 fields, saw 5\\nSkipping line 29702: expected 2 fields, saw 5\\nSkipping line 32767: expected 2 fields, saw 5\\nSkipping line 32878: expected 2 fields, saw 5\\nSkipping line 35643: expected 2 fields, saw 5\\nSkipping line 36550: expected 2 fields, saw 5\\nSkipping line 38732: expected 2 fields, saw 5\\nSkipping line 40567: expected 2 fields, saw 5\\nSkipping line 40576: expected 2 fields, saw 5\\nSkipping line 41864: expected 2 fields, saw 5\\nSkipping line 46861: expected 2 fields, saw 5\\nSkipping line 47939: expected 2 fields, saw 5\\nSkipping line 48628: expected 2 fields, saw 5\\nSkipping line 48908: expected 2 fields, saw 5\\nSkipping line 57582: expected 2 fields, saw 5\\nSkipping line 58782: expected 2 fields, saw 5\\nSkipping line 58984: expected 2 fields, saw 5\\nSkipping line 61518: expected 2 fields, saw 5\\nSkipping line 63451: expected 2 fields, saw 5\\nSkipping line 68141: expected 2 fields, saw 5\\nSkipping line 72083: expected 2 fields, saw 5\\nSkipping line 74027: expected 2 fields, saw 5\\nSkipping line 77811: expected 2 fields, saw 5\\nSkipping line 89959: expected 2 fields, saw 5\\nSkipping line 92040: expected 2 fields, saw 5\\nSkipping line 94134: expected 2 fields, saw 5\\nSkipping line 94466: expected 2 fields, saw 5\\nSkipping line 101702: expected 2 fields, saw 5\\nSkipping line 102033: expected 2 fields, saw 5\\nSkipping line 102235: expected 2 fields, saw 5\\nSkipping line 106867: expected 2 fields, saw 5\\nSkipping line 111622: expected 2 fields, saw 5\\nSkipping line 115249: expected 2 fields, saw 5\\nSkipping line 117929: expected 2 fields, saw 5\\nSkipping line 118150: expected 2 fields, saw 5\\nSkipping line 124710: expected 2 fields, saw 5\\nSkipping line 127690: expected 2 fields, saw 5\\nSkipping line 135935: expected 2 fields, saw 5\\nSkipping line 137503: expected 2 fields, saw 5\\nSkipping line 138945: expected 2 fields, saw 5\\nSkipping line 139249: expected 2 fields, saw 5\\nSkipping line 139665: expected 2 fields, saw 5\\nSkipping line 144480: expected 2 fields, saw 5\\nSkipping line 145811: expected 2 fields, saw 5\\nSkipping line 147789: expected 2 fields, saw 5\\nSkipping line 150780: expected 2 fields, saw 5\\nSkipping line 151360: expected 2 fields, saw 5\\nSkipping line 153706: expected 2 fields, saw 5\\nSkipping line 155115: expected 2 fields, saw 5\\nSkipping line 155561: expected 2 fields, saw 5\\nSkipping line 155685: expected 2 fields, saw 5\\nSkipping line 161078: expected 2 fields, saw 5\\nSkipping line 161152: expected 2 fields, saw 3\\nSkipping line 164469: expected 2 fields, saw 5\\nSkipping line 165806: expected 2 fields, saw 5\\nSkipping line 169176: expected 2 fields, saw 5\\nSkipping line 169709: expected 2 fields, saw 5\\nSkipping line 173010: expected 2 fields, saw 5\\nSkipping line 173262: expected 2 fields, saw 5\\nSkipping line 174200: expected 2 fields, saw 5\\nSkipping line 175287: expected 2 fields, saw 5\\nSkipping line 177845: expected 2 fields, saw 5\\nSkipping line 182827: expected 2 fields, saw 5\\nSkipping line 183932: expected 2 fields, saw 5\\nSkipping line 187383: expected 2 fields, saw 5\\nSkipping line 189874: expected 2 fields, saw 5\\nSkipping line 190628: expected 2 fields, saw 5\\nSkipping line 190976: expected 2 fields, saw 5\\nSkipping line 194354: expected 2 fields, saw 5\\nSkipping line 196145: expected 2 fields, saw 5\\nSkipping line 202029: expected 2 fields, saw 5\\nSkipping line 204203: expected 2 fields, saw 5\\nSkipping line 205219: expected 2 fields, saw 5\\nSkipping line 210119: expected 2 fields, saw 5\\nSkipping line 213687: expected 2 fields, saw 5\\nSkipping line 216043: expected 2 fields, saw 5\\nSkipping line 218553: expected 2 fields, saw 5\\nSkipping line 219996: expected 2 fields, saw 5\\nSkipping line 220912: expected 2 fields, saw 5\\nSkipping line 224604: expected 2 fields, saw 5\\nSkipping line 230361: expected 2 fields, saw 5\\nSkipping line 232342: expected 2 fields, saw 5\\nSkipping line 238525: expected 2 fields, saw 5\\nSkipping line 243966: expected 2 fields, saw 5\\nSkipping line 247191: expected 2 fields, saw 5\\nSkipping line 258202: expected 2 fields, saw 5\\nSkipping line 259741: expected 2 fields, saw 5\\n'\n",
            "b'Skipping line 264744: expected 2 fields, saw 5\\nSkipping line 266275: expected 2 fields, saw 5\\nSkipping line 277660: expected 2 fields, saw 5\\nSkipping line 278555: expected 2 fields, saw 5\\nSkipping line 279124: expected 2 fields, saw 5\\nSkipping line 284286: expected 2 fields, saw 5\\nSkipping line 284327: expected 2 fields, saw 5\\nSkipping line 285963: expected 2 fields, saw 5\\nSkipping line 287382: expected 2 fields, saw 5\\nSkipping line 290511: expected 2 fields, saw 5\\nSkipping line 297028: expected 2 fields, saw 5\\nSkipping line 299053: expected 2 fields, saw 5\\nSkipping line 306409: expected 2 fields, saw 5\\nSkipping line 312740: expected 2 fields, saw 5\\nSkipping line 315060: expected 2 fields, saw 5\\nSkipping line 316789: expected 2 fields, saw 5\\nSkipping line 317101: expected 2 fields, saw 5\\nSkipping line 318778: expected 2 fields, saw 5\\nSkipping line 319677: expected 2 fields, saw 5\\nSkipping line 320467: expected 2 fields, saw 5\\nSkipping line 323210: expected 2 fields, saw 5\\nSkipping line 325678: expected 2 fields, saw 5\\nSkipping line 331476: expected 2 fields, saw 5\\nSkipping line 332488: expected 2 fields, saw 5\\nSkipping line 332587: expected 2 fields, saw 5\\nSkipping line 337083: expected 2 fields, saw 5\\nSkipping line 337373: expected 2 fields, saw 5\\nSkipping line 344766: expected 2 fields, saw 5\\nSkipping line 351427: expected 2 fields, saw 5\\nSkipping line 352846: expected 2 fields, saw 5\\nSkipping line 353151: expected 2 fields, saw 5\\nSkipping line 356613: expected 2 fields, saw 5\\nSkipping line 356917: expected 2 fields, saw 5\\nSkipping line 358287: expected 2 fields, saw 5\\nSkipping line 360426: expected 2 fields, saw 5\\nSkipping line 363766: expected 2 fields, saw 5\\nSkipping line 371123: expected 2 fields, saw 5\\nSkipping line 374381: expected 2 fields, saw 5\\nSkipping line 378223: expected 2 fields, saw 5\\nSkipping line 381284: expected 2 fields, saw 5\\nSkipping line 384681: expected 2 fields, saw 5\\nSkipping line 387456: expected 2 fields, saw 5\\nSkipping line 388198: expected 2 fields, saw 7\\nSkipping line 388504: expected 2 fields, saw 5\\nSkipping line 388971: expected 2 fields, saw 5\\nSkipping line 389679: expected 2 fields, saw 5\\nSkipping line 389896: expected 2 fields, saw 5\\nSkipping line 393206: expected 2 fields, saw 5\\nSkipping line 393589: expected 2 fields, saw 5\\nSkipping line 395653: expected 2 fields, saw 5\\nSkipping line 400789: expected 2 fields, saw 5\\nSkipping line 401624: expected 2 fields, saw 5\\nSkipping line 405681: expected 2 fields, saw 5\\nSkipping line 406558: expected 2 fields, saw 5\\nSkipping line 407331: expected 2 fields, saw 5\\nSkipping line 407818: expected 2 fields, saw 5\\nSkipping line 407915: expected 2 fields, saw 5\\nSkipping line 408352: expected 2 fields, saw 5\\nSkipping line 411439: expected 2 fields, saw 5\\nSkipping line 416490: expected 2 fields, saw 5\\nSkipping line 418257: expected 2 fields, saw 5\\nSkipping line 425789: expected 2 fields, saw 5\\nSkipping line 426191: expected 2 fields, saw 5\\nSkipping line 430313: expected 2 fields, saw 5\\nSkipping line 432523: expected 2 fields, saw 5\\nSkipping line 435138: expected 2 fields, saw 5\\nSkipping line 435905: expected 2 fields, saw 5\\nSkipping line 437390: expected 2 fields, saw 5\\nSkipping line 440970: expected 2 fields, saw 5\\nSkipping line 444588: expected 2 fields, saw 5\\nSkipping line 448631: expected 2 fields, saw 5\\nSkipping line 454158: expected 2 fields, saw 5\\nSkipping line 454659: expected 2 fields, saw 5\\nSkipping line 454898: expected 2 fields, saw 5\\nSkipping line 456223: expected 2 fields, saw 5\\nSkipping line 457806: expected 2 fields, saw 5\\nSkipping line 458011: expected 2 fields, saw 5\\nSkipping line 470089: expected 2 fields, saw 5\\nSkipping line 471523: expected 2 fields, saw 5\\nSkipping line 478167: expected 2 fields, saw 5\\nSkipping line 479370: expected 2 fields, saw 5\\nSkipping line 492946: expected 2 fields, saw 5\\nSkipping line 495027: expected 2 fields, saw 5\\nSkipping line 497121: expected 2 fields, saw 5\\nSkipping line 497453: expected 2 fields, saw 5\\nSkipping line 504689: expected 2 fields, saw 5\\nSkipping line 505020: expected 2 fields, saw 5\\nSkipping line 505222: expected 2 fields, saw 5\\nSkipping line 509854: expected 2 fields, saw 5\\nSkipping line 514609: expected 2 fields, saw 5\\nSkipping line 518236: expected 2 fields, saw 5\\nSkipping line 520916: expected 2 fields, saw 5\\nSkipping line 521137: expected 2 fields, saw 5\\n'\n",
            "b'Skipping line 527697: expected 2 fields, saw 5\\nSkipping line 530677: expected 2 fields, saw 5\\nSkipping line 538922: expected 2 fields, saw 5\\nSkipping line 540490: expected 2 fields, saw 5\\nSkipping line 541932: expected 2 fields, saw 5\\nSkipping line 542236: expected 2 fields, saw 5\\nSkipping line 542652: expected 2 fields, saw 5\\nSkipping line 547467: expected 2 fields, saw 5\\nSkipping line 548798: expected 2 fields, saw 5\\nSkipping line 550776: expected 2 fields, saw 5\\nSkipping line 553767: expected 2 fields, saw 5\\nSkipping line 554347: expected 2 fields, saw 5\\nSkipping line 556693: expected 2 fields, saw 5\\nSkipping line 558102: expected 2 fields, saw 5\\nSkipping line 558548: expected 2 fields, saw 5\\nSkipping line 558672: expected 2 fields, saw 5\\nSkipping line 564065: expected 2 fields, saw 5\\nSkipping line 566350: expected 2 fields, saw 5\\nSkipping line 569575: expected 2 fields, saw 5\\nSkipping line 580586: expected 2 fields, saw 5\\nSkipping line 582125: expected 2 fields, saw 5\\nSkipping line 587128: expected 2 fields, saw 5\\nSkipping line 588659: expected 2 fields, saw 5\\nSkipping line 600044: expected 2 fields, saw 5\\nSkipping line 600939: expected 2 fields, saw 5\\nSkipping line 601508: expected 2 fields, saw 5\\nSkipping line 606670: expected 2 fields, saw 5\\nSkipping line 606711: expected 2 fields, saw 5\\nSkipping line 608347: expected 2 fields, saw 5\\nSkipping line 609766: expected 2 fields, saw 5\\nSkipping line 612895: expected 2 fields, saw 5\\nSkipping line 619412: expected 2 fields, saw 5\\nSkipping line 621437: expected 2 fields, saw 5\\nSkipping line 628793: expected 2 fields, saw 5\\nSkipping line 635124: expected 2 fields, saw 5\\nSkipping line 637444: expected 2 fields, saw 5\\nSkipping line 639173: expected 2 fields, saw 5\\nSkipping line 639485: expected 2 fields, saw 5\\nSkipping line 641162: expected 2 fields, saw 5\\nSkipping line 642061: expected 2 fields, saw 5\\nSkipping line 642851: expected 2 fields, saw 5\\nSkipping line 646356: expected 2 fields, saw 5\\nSkipping line 646682: expected 2 fields, saw 5\\nSkipping line 647163: expected 2 fields, saw 5\\nSkipping line 650226: expected 2 fields, saw 5\\nSkipping line 655688: expected 2 fields, saw 5\\nSkipping line 656172: expected 2 fields, saw 5\\nSkipping line 663117: expected 2 fields, saw 5\\nSkipping line 669198: expected 2 fields, saw 5\\nSkipping line 669991: expected 2 fields, saw 5\\nSkipping line 670996: expected 2 fields, saw 5\\nSkipping line 671573: expected 2 fields, saw 5\\nSkipping line 679392: expected 2 fields, saw 5\\nSkipping line 681465: expected 2 fields, saw 5\\nSkipping line 681503: expected 2 fields, saw 5\\nSkipping line 686337: expected 2 fields, saw 5\\nSkipping line 687414: expected 2 fields, saw 5\\nSkipping line 690774: expected 2 fields, saw 5\\nSkipping line 692561: expected 2 fields, saw 5\\nSkipping line 695309: expected 2 fields, saw 5\\nSkipping line 706117: expected 2 fields, saw 5\\nSkipping line 714165: expected 2 fields, saw 5\\nSkipping line 715046: expected 2 fields, saw 5\\nSkipping line 715050: expected 2 fields, saw 5\\nSkipping line 715078: expected 2 fields, saw 5\\nSkipping line 715335: expected 2 fields, saw 5\\nSkipping line 724697: expected 2 fields, saw 5\\nSkipping line 726354: expected 2 fields, saw 5\\nSkipping line 735271: expected 2 fields, saw 5\\nSkipping line 735575: expected 2 fields, saw 5\\nSkipping line 737148: expected 2 fields, saw 5\\nSkipping line 741254: expected 2 fields, saw 5\\nSkipping line 743845: expected 2 fields, saw 5\\nSkipping line 747048: expected 2 fields, saw 5\\nSkipping line 751334: expected 2 fields, saw 5\\nSkipping line 753087: expected 2 fields, saw 5\\nSkipping line 753678: expected 2 fields, saw 5\\nSkipping line 755051: expected 2 fields, saw 5\\nSkipping line 757408: expected 2 fields, saw 5\\nSkipping line 768507: expected 2 fields, saw 5\\nSkipping line 768796: expected 2 fields, saw 5\\nSkipping line 772102: expected 2 fields, saw 5\\nSkipping line 774801: expected 2 fields, saw 5\\nSkipping line 776806: expected 2 fields, saw 5\\nSkipping line 777064: expected 2 fields, saw 5\\nSkipping line 778552: expected 2 fields, saw 5\\n'\n",
            "b'Skipping line 795804: expected 2 fields, saw 5\\nSkipping line 796918: expected 2 fields, saw 5\\nSkipping line 807406: expected 2 fields, saw 5\\nSkipping line 808328: expected 2 fields, saw 5\\nSkipping line 809773: expected 2 fields, saw 5\\nSkipping line 809935: expected 2 fields, saw 5\\nSkipping line 812996: expected 2 fields, saw 5\\nSkipping line 814826: expected 2 fields, saw 5\\nSkipping line 817396: expected 2 fields, saw 5\\nSkipping line 817857: expected 2 fields, saw 5\\nSkipping line 820946: expected 2 fields, saw 5\\nSkipping line 821641: expected 2 fields, saw 5\\nSkipping line 822296: expected 2 fields, saw 5\\nSkipping line 822899: expected 2 fields, saw 5\\nSkipping line 830990: expected 2 fields, saw 5\\n'\n"
          ]
        },
        {
          "output_type": "execute_result",
          "data": {
            "text/plain": [
              "      password  strength\n",
              "0     kzde5577       1.0\n",
              "1     kino3434       1.0\n",
              "2    visi7k1yr       1.0\n",
              "3     megzy123       1.0\n",
              "4  lamborghin1       1.0"
            ],
            "text/html": [
              "\n",
              "  <div id=\"df-9ed8584b-dd09-43be-8908-1e4d2e46a9f9\">\n",
              "    <div class=\"colab-df-container\">\n",
              "      <div>\n",
              "<style scoped>\n",
              "    .dataframe tbody tr th:only-of-type {\n",
              "        vertical-align: middle;\n",
              "    }\n",
              "\n",
              "    .dataframe tbody tr th {\n",
              "        vertical-align: top;\n",
              "    }\n",
              "\n",
              "    .dataframe thead th {\n",
              "        text-align: right;\n",
              "    }\n",
              "</style>\n",
              "<table border=\"1\" class=\"dataframe\">\n",
              "  <thead>\n",
              "    <tr style=\"text-align: right;\">\n",
              "      <th></th>\n",
              "      <th>password</th>\n",
              "      <th>strength</th>\n",
              "    </tr>\n",
              "  </thead>\n",
              "  <tbody>\n",
              "    <tr>\n",
              "      <th>0</th>\n",
              "      <td>kzde5577</td>\n",
              "      <td>1.0</td>\n",
              "    </tr>\n",
              "    <tr>\n",
              "      <th>1</th>\n",
              "      <td>kino3434</td>\n",
              "      <td>1.0</td>\n",
              "    </tr>\n",
              "    <tr>\n",
              "      <th>2</th>\n",
              "      <td>visi7k1yr</td>\n",
              "      <td>1.0</td>\n",
              "    </tr>\n",
              "    <tr>\n",
              "      <th>3</th>\n",
              "      <td>megzy123</td>\n",
              "      <td>1.0</td>\n",
              "    </tr>\n",
              "    <tr>\n",
              "      <th>4</th>\n",
              "      <td>lamborghin1</td>\n",
              "      <td>1.0</td>\n",
              "    </tr>\n",
              "  </tbody>\n",
              "</table>\n",
              "</div>\n",
              "      <button class=\"colab-df-convert\" onclick=\"convertToInteractive('df-9ed8584b-dd09-43be-8908-1e4d2e46a9f9')\"\n",
              "              title=\"Convert this dataframe to an interactive table.\"\n",
              "              style=\"display:none;\">\n",
              "        \n",
              "  <svg xmlns=\"http://www.w3.org/2000/svg\" height=\"24px\"viewBox=\"0 0 24 24\"\n",
              "       width=\"24px\">\n",
              "    <path d=\"M0 0h24v24H0V0z\" fill=\"none\"/>\n",
              "    <path d=\"M18.56 5.44l.94 2.06.94-2.06 2.06-.94-2.06-.94-.94-2.06-.94 2.06-2.06.94zm-11 1L8.5 8.5l.94-2.06 2.06-.94-2.06-.94L8.5 2.5l-.94 2.06-2.06.94zm10 10l.94 2.06.94-2.06 2.06-.94-2.06-.94-.94-2.06-.94 2.06-2.06.94z\"/><path d=\"M17.41 7.96l-1.37-1.37c-.4-.4-.92-.59-1.43-.59-.52 0-1.04.2-1.43.59L10.3 9.45l-7.72 7.72c-.78.78-.78 2.05 0 2.83L4 21.41c.39.39.9.59 1.41.59.51 0 1.02-.2 1.41-.59l7.78-7.78 2.81-2.81c.8-.78.8-2.07 0-2.86zM5.41 20L4 18.59l7.72-7.72 1.47 1.35L5.41 20z\"/>\n",
              "  </svg>\n",
              "      </button>\n",
              "      \n",
              "  <style>\n",
              "    .colab-df-container {\n",
              "      display:flex;\n",
              "      flex-wrap:wrap;\n",
              "      gap: 12px;\n",
              "    }\n",
              "\n",
              "    .colab-df-convert {\n",
              "      background-color: #E8F0FE;\n",
              "      border: none;\n",
              "      border-radius: 50%;\n",
              "      cursor: pointer;\n",
              "      display: none;\n",
              "      fill: #1967D2;\n",
              "      height: 32px;\n",
              "      padding: 0 0 0 0;\n",
              "      width: 32px;\n",
              "    }\n",
              "\n",
              "    .colab-df-convert:hover {\n",
              "      background-color: #E2EBFA;\n",
              "      box-shadow: 0px 1px 2px rgba(60, 64, 67, 0.3), 0px 1px 3px 1px rgba(60, 64, 67, 0.15);\n",
              "      fill: #174EA6;\n",
              "    }\n",
              "\n",
              "    [theme=dark] .colab-df-convert {\n",
              "      background-color: #3B4455;\n",
              "      fill: #D2E3FC;\n",
              "    }\n",
              "\n",
              "    [theme=dark] .colab-df-convert:hover {\n",
              "      background-color: #434B5C;\n",
              "      box-shadow: 0px 1px 3px 1px rgba(0, 0, 0, 0.15);\n",
              "      filter: drop-shadow(0px 1px 2px rgba(0, 0, 0, 0.3));\n",
              "      fill: #FFFFFF;\n",
              "    }\n",
              "  </style>\n",
              "\n",
              "      <script>\n",
              "        const buttonEl =\n",
              "          document.querySelector('#df-9ed8584b-dd09-43be-8908-1e4d2e46a9f9 button.colab-df-convert');\n",
              "        buttonEl.style.display =\n",
              "          google.colab.kernel.accessAllowed ? 'block' : 'none';\n",
              "\n",
              "        async function convertToInteractive(key) {\n",
              "          const element = document.querySelector('#df-9ed8584b-dd09-43be-8908-1e4d2e46a9f9');\n",
              "          const dataTable =\n",
              "            await google.colab.kernel.invokeFunction('convertToInteractive',\n",
              "                                                     [key], {});\n",
              "          if (!dataTable) return;\n",
              "\n",
              "          const docLinkHtml = 'Like what you see? Visit the ' +\n",
              "            '<a target=\"_blank\" href=https://colab.research.google.com/notebooks/data_table.ipynb>data table notebook</a>'\n",
              "            + ' to learn more about interactive tables.';\n",
              "          element.innerHTML = '';\n",
              "          dataTable['output_type'] = 'display_data';\n",
              "          await google.colab.output.renderOutput(dataTable, element);\n",
              "          const docLink = document.createElement('div');\n",
              "          docLink.innerHTML = docLinkHtml;\n",
              "          element.appendChild(docLink);\n",
              "        }\n",
              "      </script>\n",
              "    </div>\n",
              "  </div>\n",
              "  "
            ]
          },
          "metadata": {},
          "execution_count": 14
        }
      ]
    },
    {
      "cell_type": "code",
      "execution_count": 15,
      "metadata": {
        "id": "NewFXnTpzasq",
        "outputId": "ec3ee9f5-c85a-40ef-8b70-9a874ddaa8b3",
        "colab": {
          "base_uri": "https://localhost:8080/"
        }
      },
      "outputs": [
        {
          "output_type": "execute_result",
          "data": {
            "text/plain": [
              "password    2\n",
              "strength    1\n",
              "dtype: int64"
            ]
          },
          "metadata": {},
          "execution_count": 15
        }
      ],
      "source": [
        "data.isna().sum()"
      ]
    },
    {
      "cell_type": "code",
      "execution_count": 16,
      "metadata": {
        "id": "EfxI7UI5zasq",
        "outputId": "c28452e9-043f-4f8c-924e-f9806472aebf",
        "colab": {
          "base_uri": "https://localhost:8080/",
          "height": 112
        }
      },
      "outputs": [
        {
          "output_type": "execute_result",
          "data": {
            "text/plain": [
              "       password  strength\n",
              "125846      NaN       0.0\n",
              "528688      NaN       0.0"
            ],
            "text/html": [
              "\n",
              "  <div id=\"df-eb84826c-b109-450a-b924-992dbb8e9aca\">\n",
              "    <div class=\"colab-df-container\">\n",
              "      <div>\n",
              "<style scoped>\n",
              "    .dataframe tbody tr th:only-of-type {\n",
              "        vertical-align: middle;\n",
              "    }\n",
              "\n",
              "    .dataframe tbody tr th {\n",
              "        vertical-align: top;\n",
              "    }\n",
              "\n",
              "    .dataframe thead th {\n",
              "        text-align: right;\n",
              "    }\n",
              "</style>\n",
              "<table border=\"1\" class=\"dataframe\">\n",
              "  <thead>\n",
              "    <tr style=\"text-align: right;\">\n",
              "      <th></th>\n",
              "      <th>password</th>\n",
              "      <th>strength</th>\n",
              "    </tr>\n",
              "  </thead>\n",
              "  <tbody>\n",
              "    <tr>\n",
              "      <th>125846</th>\n",
              "      <td>NaN</td>\n",
              "      <td>0.0</td>\n",
              "    </tr>\n",
              "    <tr>\n",
              "      <th>528688</th>\n",
              "      <td>NaN</td>\n",
              "      <td>0.0</td>\n",
              "    </tr>\n",
              "  </tbody>\n",
              "</table>\n",
              "</div>\n",
              "      <button class=\"colab-df-convert\" onclick=\"convertToInteractive('df-eb84826c-b109-450a-b924-992dbb8e9aca')\"\n",
              "              title=\"Convert this dataframe to an interactive table.\"\n",
              "              style=\"display:none;\">\n",
              "        \n",
              "  <svg xmlns=\"http://www.w3.org/2000/svg\" height=\"24px\"viewBox=\"0 0 24 24\"\n",
              "       width=\"24px\">\n",
              "    <path d=\"M0 0h24v24H0V0z\" fill=\"none\"/>\n",
              "    <path d=\"M18.56 5.44l.94 2.06.94-2.06 2.06-.94-2.06-.94-.94-2.06-.94 2.06-2.06.94zm-11 1L8.5 8.5l.94-2.06 2.06-.94-2.06-.94L8.5 2.5l-.94 2.06-2.06.94zm10 10l.94 2.06.94-2.06 2.06-.94-2.06-.94-.94-2.06-.94 2.06-2.06.94z\"/><path d=\"M17.41 7.96l-1.37-1.37c-.4-.4-.92-.59-1.43-.59-.52 0-1.04.2-1.43.59L10.3 9.45l-7.72 7.72c-.78.78-.78 2.05 0 2.83L4 21.41c.39.39.9.59 1.41.59.51 0 1.02-.2 1.41-.59l7.78-7.78 2.81-2.81c.8-.78.8-2.07 0-2.86zM5.41 20L4 18.59l7.72-7.72 1.47 1.35L5.41 20z\"/>\n",
              "  </svg>\n",
              "      </button>\n",
              "      \n",
              "  <style>\n",
              "    .colab-df-container {\n",
              "      display:flex;\n",
              "      flex-wrap:wrap;\n",
              "      gap: 12px;\n",
              "    }\n",
              "\n",
              "    .colab-df-convert {\n",
              "      background-color: #E8F0FE;\n",
              "      border: none;\n",
              "      border-radius: 50%;\n",
              "      cursor: pointer;\n",
              "      display: none;\n",
              "      fill: #1967D2;\n",
              "      height: 32px;\n",
              "      padding: 0 0 0 0;\n",
              "      width: 32px;\n",
              "    }\n",
              "\n",
              "    .colab-df-convert:hover {\n",
              "      background-color: #E2EBFA;\n",
              "      box-shadow: 0px 1px 2px rgba(60, 64, 67, 0.3), 0px 1px 3px 1px rgba(60, 64, 67, 0.15);\n",
              "      fill: #174EA6;\n",
              "    }\n",
              "\n",
              "    [theme=dark] .colab-df-convert {\n",
              "      background-color: #3B4455;\n",
              "      fill: #D2E3FC;\n",
              "    }\n",
              "\n",
              "    [theme=dark] .colab-df-convert:hover {\n",
              "      background-color: #434B5C;\n",
              "      box-shadow: 0px 1px 3px 1px rgba(0, 0, 0, 0.15);\n",
              "      filter: drop-shadow(0px 1px 2px rgba(0, 0, 0, 0.3));\n",
              "      fill: #FFFFFF;\n",
              "    }\n",
              "  </style>\n",
              "\n",
              "      <script>\n",
              "        const buttonEl =\n",
              "          document.querySelector('#df-eb84826c-b109-450a-b924-992dbb8e9aca button.colab-df-convert');\n",
              "        buttonEl.style.display =\n",
              "          google.colab.kernel.accessAllowed ? 'block' : 'none';\n",
              "\n",
              "        async function convertToInteractive(key) {\n",
              "          const element = document.querySelector('#df-eb84826c-b109-450a-b924-992dbb8e9aca');\n",
              "          const dataTable =\n",
              "            await google.colab.kernel.invokeFunction('convertToInteractive',\n",
              "                                                     [key], {});\n",
              "          if (!dataTable) return;\n",
              "\n",
              "          const docLinkHtml = 'Like what you see? Visit the ' +\n",
              "            '<a target=\"_blank\" href=https://colab.research.google.com/notebooks/data_table.ipynb>data table notebook</a>'\n",
              "            + ' to learn more about interactive tables.';\n",
              "          element.innerHTML = '';\n",
              "          dataTable['output_type'] = 'display_data';\n",
              "          await google.colab.output.renderOutput(dataTable, element);\n",
              "          const docLink = document.createElement('div');\n",
              "          docLink.innerHTML = docLinkHtml;\n",
              "          element.appendChild(docLink);\n",
              "        }\n",
              "      </script>\n",
              "    </div>\n",
              "  </div>\n",
              "  "
            ]
          },
          "metadata": {},
          "execution_count": 16
        }
      ],
      "source": [
        "data[data['password'].isnull()]"
      ]
    },
    {
      "cell_type": "code",
      "execution_count": 17,
      "metadata": {
        "id": "a3yQu95Nzasr"
      },
      "outputs": [],
      "source": [
        "data.dropna(inplace=True)"
      ]
    },
    {
      "cell_type": "code",
      "execution_count": 18,
      "metadata": {
        "id": "APPJrI1czasr",
        "outputId": "d95b8a67-4d3c-44a4-ccea-2fd7b64a00af",
        "colab": {
          "base_uri": "https://localhost:8080/"
        }
      },
      "outputs": [
        {
          "output_type": "execute_result",
          "data": {
            "text/plain": [
              "password    0\n",
              "strength    0\n",
              "dtype: int64"
            ]
          },
          "metadata": {},
          "execution_count": 18
        }
      ],
      "source": [
        "data.isnull().sum()"
      ]
    },
    {
      "cell_type": "code",
      "execution_count": 19,
      "metadata": {
        "id": "Fe9VykC7zass",
        "outputId": "7511e2e5-a3ef-417d-95f8-cee74f0dc58b",
        "colab": {
          "base_uri": "https://localhost:8080/",
          "height": 296
        }
      },
      "outputs": [
        {
          "output_type": "execute_result",
          "data": {
            "text/plain": [
              "<matplotlib.axes._subplots.AxesSubplot at 0x7f8e9feb2250>"
            ]
          },
          "metadata": {},
          "execution_count": 19
        },
        {
          "output_type": "display_data",
          "data": {
            "text/plain": [
              "<Figure size 432x288 with 1 Axes>"
            ],
            "image/png": "[encoded data removed]"
          },
          "metadata": {
            "needs_background": "light"
          }
        }
      ],
      "source": [
        "sns.countplot(data['strength'])"
      ]
    },
    {
      "cell_type": "code",
      "execution_count": 20,
      "metadata": {
        "id": "6hKKFsqXzass"
      },
      "outputs": [],
      "source": [
        "password_tuple=np.array(data)"
      ]
    },
    {
      "cell_type": "code",
      "execution_count": 21,
      "metadata": {
        "id": "xyN-8PT9zass",
        "outputId": "f668071d-1a95-4f31-a8e5-12a904a6d3f3",
        "colab": {
          "base_uri": "https://localhost:8080/"
        }
      },
      "outputs": [
        {
          "output_type": "execute_result",
          "data": {
            "text/plain": [
              "array([['kzde5577', 1.0],\n",
              "       ['kino3434', 1.0],\n",
              "       ['visi7k1yr', 1.0],\n",
              "       ...,\n",
              "       ['184520socram', 1.0],\n",
              "       ['marken22a', 1.0],\n",
              "       ['fxx4pw4g', 1.0]], dtype=object)"
            ]
          },
          "metadata": {},
          "execution_count": 21
        }
      ],
      "source": [
        "password_tuple"
      ]
    },
    {
      "cell_type": "code",
      "execution_count": 21,
      "metadata": {
        "id": "V2m_zqinzast"
      },
      "outputs": [],
      "source": []
    },
    {
      "cell_type": "markdown",
      "metadata": {
        "id": "1yp0oUuzzast"
      },
      "source": [
        "#### shuffling randomly for robustness"
      ]
    },
    {
      "cell_type": "code",
      "execution_count": 22,
      "metadata": {
        "id": "lnuB_SdBzast"
      },
      "outputs": [],
      "source": [
        "import random\n",
        "random.shuffle(password_tuple)"
      ]
    },
    {
      "cell_type": "code",
      "execution_count": 23,
      "metadata": {
        "id": "1QsLnk3Jzasu"
      },
      "outputs": [],
      "source": [
        "x=[labels[0] for labels in password_tuple]\n",
        "y=[labels[1] for labels in password_tuple]\n"
      ]
    },
    {
      "cell_type": "code",
      "execution_count": 24,
      "metadata": {
        "id": "4AjXrG71zasu",
        "outputId": "06b9e054-ee3d-4767-9a69-ffff4e59a3eb",
        "colab": {
          "base_uri": "https://localhost:8080/"
        }
      },
      "outputs": [
        {
          "output_type": "execute_result",
          "data": {
            "text/plain": [
              "['kzde5577',\n",
              " 'kino3434',\n",
              " 'visi7k1yr',\n",
              " 'kzde5577',\n",
              " 'kino3434',\n",
              " 'lamborghin1',\n",
              " 'visi7k1yr',\n",
              " 'kino3434',\n",
              " 'AVYq1lDE4MgAZfNt',\n",
              " 'kino3434',\n",
              " 'asv5o9yu',\n",
              " 'visi7k1yr',\n",
              " 'visi7k1yr',\n",
              " 'u6c8vhow',\n",
              " 'kzde5577',\n",
              " 'as326159',\n",
              " 'jytifok873',\n",
              " 'megzy123',\n",
              " '6975038lp',\n",
              " 'idofo673',\n",
              " 'universe2908',\n",
              " 'WUt9IZzE0OQ7PkNE',\n",
              " 'megzy123',\n",
              " 'u6c8vhow',\n",
              " 'czuodhj972',\n",
              " 'visi7k1yr',\n",
              " 'g067057895',\n",
              " '52558000aaa',\n",
              " '52558000aaa',\n",
              " 'faranumar91',\n",
              " 'klara-tershina3H',\n",
              " 'asv5o9yu',\n",
              " 'cigicigi123',\n",
              " 'asv5o9yu',\n",
              " 'memjan123',\n",
              " 'WUt9IZzE0OQ7PkNE',\n",
              " 'u6c8vhow',\n",
              " 'WUt9IZzE0OQ7PkNE',\n",
              " 'prisonbreak1',\n",
              " 'u6c8vhow',\n",
              " 'kswa2mrv',\n",
              " '0169395484a',\n",
              " 'intel1',\n",
              " 'elyass15@ajilent-ci',\n",
              " 'fahad123',\n",
              " '612035180tok',\n",
              " 'pHyqueDIyNQ8vmhb',\n",
              " 'kswa2mrv',\n",
              " 'hpqkoxsn5',\n",
              " 'klara-tershina3H',\n",
              " 'lsdlsd1',\n",
              " 'memjan123',\n",
              " 'v1118714',\n",
              " 'juliel009',\n",
              " 'klara-tershina3H',\n",
              " 'kswa2mrv',\n",
              " 'klara-tershina3H',\n",
              " 'TyWM72UNEex8Q8Y',\n",
              " 'calcifer32',\n",
              " 'schalke04',\n",
              " 'bozoxik602',\n",
              " 'yk530mg8',\n",
              " 'as326159',\n",
              " 'visi7k1yr',\n",
              " '52558000aaa',\n",
              " 'megzy123',\n",
              " 'asv5o9yu',\n",
              " 'v1118714',\n",
              " 'tamanagung6',\n",
              " 'kjkjkj1',\n",
              " 'pHyqueDIyNQ8vmhb',\n",
              " 'olmaz.',\n",
              " 'gaymaids1',\n",
              " 'visi7k1yr',\n",
              " 'asv5o9yu',\n",
              " 'bgrvl80',\n",
              " 'czuodhj972',\n",
              " 'go7kew7a2po',\n",
              " 'b4NbTxDEyNgG141J',\n",
              " 'visi7k1yr',\n",
              " 'kswa2mrv',\n",
              " 'elyass15@ajilent-ci',\n",
              " 'pHyqueDIyNQ8vmhb',\n",
              " 'prisonbreak1',\n",
              " 'czuodhj972',\n",
              " 'kunyukbabi69',\n",
              " 'TyWM72UNEex8Q8Y',\n",
              " 'megzy123',\n",
              " 'visi7k1yr',\n",
              " 'fk9qi21m',\n",
              " 'v1118714',\n",
              " 'il0vey0u',\n",
              " 'lsdlsd1',\n",
              " 'alimagik1',\n",
              " 'asgaliu11',\n",
              " 'intel1',\n",
              " '52558000aaa',\n",
              " 'v1118714',\n",
              " 'lamborghin1',\n",
              " '929865yt',\n",
              " 'gdfn76',\n",
              " 'tamanagung6',\n",
              " 'c3h8bkzr',\n",
              " 'openup12',\n",
              " 'as326159',\n",
              " 'lamborghin1',\n",
              " 'xyws951753',\n",
              " '2021848709.',\n",
              " 'd04m11',\n",
              " 'cigicigi123',\n",
              " 'jalal123456',\n",
              " '283671gus',\n",
              " 'prisonbreak1',\n",
              " 'RqsuUsDYxNgr8T40',\n",
              " 'bozoxik602',\n",
              " 'gaymaids1',\n",
              " 'mickael12',\n",
              " 'gill02',\n",
              " 'b4NbTxDEyNgG141J',\n",
              " 'yk530mg8',\n",
              " 'klara-tershina3H',\n",
              " '746xitEGiqObog',\n",
              " 'czuodhj972',\n",
              " 'bozoxik602',\n",
              " 'calcifer32',\n",
              " 'kswa2mrv',\n",
              " 'juliel009',\n",
              " 'jytifok873',\n",
              " '929865yt',\n",
              " 'fahad123',\n",
              " 'hodygid757',\n",
              " 'as326159',\n",
              " 'schalke04',\n",
              " 'yitbos77',\n",
              " 'klara-tershina3H',\n",
              " '64959rodro',\n",
              " 'lamborghin1',\n",
              " '283671gus',\n",
              " 'visi7k1yr',\n",
              " 'kzde5577',\n",
              " 'd04m11',\n",
              " 'hodygid757',\n",
              " 'c3h8bkzr',\n",
              " 'zoobike04',\n",
              " 'pHyqueDIyNQ8vmhb',\n",
              " 'g067057895',\n",
              " 'hayhayq2',\n",
              " '929865yt',\n",
              " 'exitos2009',\n",
              " '6975038lp',\n",
              " '3y6iwef2g6',\n",
              " '746xitEGiqObog',\n",
              " 'g3rappa',\n",
              " '64959rodro',\n",
              " '929865yt',\n",
              " 'matiofox08',\n",
              " '5gzj5uf',\n",
              " 'xyws951753',\n",
              " 'p2share',\n",
              " 'g3rappa',\n",
              " '929865yt',\n",
              " 'jonothepoop1',\n",
              " '123maxbala',\n",
              " 's9830950044',\n",
              " 'teste10',\n",
              " 'kino3434',\n",
              " 'fk9qi21m',\n",
              " 'ikanez886',\n",
              " 'jUV4dSDQwNwPpA36',\n",
              " 'il0vey0u',\n",
              " 'damyvo114',\n",
              " 'farrukhcse12',\n",
              " 'polo2014',\n",
              " 'warriors08',\n",
              " 'omakiva153',\n",
              " 'nicolas05',\n",
              " 'gdfn76',\n",
              " 's9830950044',\n",
              " 'gkrqjs6',\n",
              " 'hayhayq2',\n",
              " 'bozoxik602',\n",
              " 'jalingo1',\n",
              " 'cigicigi123',\n",
              " '123net123',\n",
              " 'elonex24',\n",
              " 'alchimie79',\n",
              " 'mickael12',\n",
              " 'peluchin4',\n",
              " 'go7kew7a2po',\n",
              " 'fnmsdha476',\n",
              " 'yqugu927',\n",
              " '10Erjrlmebup0n',\n",
              " '4osxw4r',\n",
              " 'kzde5577',\n",
              " '4osxw4r',\n",
              " 'njmania114',\n",
              " '612035180tok',\n",
              " 'gandhi8513',\n",
              " 'afs34214',\n",
              " 'RPFUOUDQwMwVW0AS',\n",
              " 'yut0838828185',\n",
              " 'jerusalem393',\n",
              " '20010509wang',\n",
              " 'Iamthelegend1!',\n",
              " 'yut0838828185',\n",
              " 'openup12',\n",
              " 'klara-tershina3H',\n",
              " 'czuodhj972',\n",
              " 'tamanagung6',\n",
              " 'kayal123',\n",
              " 'vehat387',\n",
              " 'gaymaids1',\n",
              " 'warriors08',\n",
              " 'ubojig109',\n",
              " 'sarahi1628',\n",
              " 'fk9qi21m',\n",
              " 'juliana19',\n",
              " '4osxw4r',\n",
              " '12345yolanda',\n",
              " 'icap12',\n",
              " 'polo2014',\n",
              " 'as326159',\n",
              " 'robot425',\n",
              " 's4m2dx9e6',\n",
              " 'vehat387',\n",
              " 'asgaliu11',\n",
              " 'asgaliu11',\n",
              " 'potatobus150',\n",
              " 'peluchin4',\n",
              " 'taurofive16',\n",
              " 'yu4cmn',\n",
              " 'njmania114',\n",
              " 'jUV4dSDQwNwPpA36',\n",
              " 's9830950044',\n",
              " 'pHyqueDIyNQ8vmhb',\n",
              " 'schalke04',\n",
              " '3vszncp4',\n",
              " 'g067057895',\n",
              " 'meriton23',\n",
              " 'gill02',\n",
              " 'yut0838828185',\n",
              " 'gaymaids1',\n",
              " '64959rodro',\n",
              " '2akira2',\n",
              " 'k9b8cz6aj2',\n",
              " '12345yolanda',\n",
              " 'roxana1993',\n",
              " 'bozoxik602',\n",
              " 'demon10',\n",
              " 'jUV4dSDQwNwPpA36',\n",
              " 'aquhih220',\n",
              " 'vgnfs495vp',\n",
              " 'jonothepoop1',\n",
              " 'yllime123',\n",
              " 'rntprns7',\n",
              " 'lsdlsd1',\n",
              " 'holamundo1',\n",
              " 'j09000',\n",
              " 'hodygid757',\n",
              " 'ok>bdk',\n",
              " 'omakiva153',\n",
              " 'moimoimoi9',\n",
              " 'marita1',\n",
              " 'lrhxmevb620',\n",
              " 'wycinu436',\n",
              " '6975038lp',\n",
              " 'mickael12',\n",
              " 'www32223222',\n",
              " 'sbaUsoTA1OAzuevI',\n",
              " 'portales1',\n",
              " 'barra23',\n",
              " 'Iamthelegend1!',\n",
              " 'mickael12',\n",
              " 'kzde5577',\n",
              " 'yuri110995',\n",
              " 'calcifer32',\n",
              " 'sarahi1628',\n",
              " '0870330135a',\n",
              " 'kjkjkj1',\n",
              " 'ts34a3fodh3i',\n",
              " 'z888888',\n",
              " '215466kenyi',\n",
              " '1katertje',\n",
              " '52558000aaa',\n",
              " 'ikanez886',\n",
              " 'gill02',\n",
              " 's9830950044',\n",
              " 'iwaguh884',\n",
              " 'czuodhj972',\n",
              " 'hodygid757',\n",
              " 'elyass15@ajilent-ci',\n",
              " 'njmania114',\n",
              " '929865yt',\n",
              " 'gandhi8513',\n",
              " 'saule123',\n",
              " 'juany57',\n",
              " 'hisnipes1',\n",
              " 'planes123',\n",
              " 'ns2b0727',\n",
              " 'roxana1993',\n",
              " 'roxana1993',\n",
              " 'taurofive16',\n",
              " 'den019520',\n",
              " 'shotiko18',\n",
              " 'xW8-3w7-MFB-CKH',\n",
              " 'elonex24',\n",
              " 'witek1709',\n",
              " '20Dgw7TQ0OQVdly7',\n",
              " 'w9209640',\n",
              " 'a03242241431a',\n",
              " '2akira2',\n",
              " 'meriton23',\n",
              " 'il0vey0u',\n",
              " 'yitbos77',\n",
              " 'megzy123',\n",
              " 'abizar08',\n",
              " 'pato221182',\n",
              " 'sknq7m0',\n",
              " 'a03242241431a',\n",
              " 'kinga22',\n",
              " 'kswa2mrv',\n",
              " 'potatobus150',\n",
              " 'universe2908',\n",
              " 'mazdarx7',\n",
              " 'sbl571017',\n",
              " 'wisal1234',\n",
              " 'colorado27',\n",
              " 'gaymaids1',\n",
              " 'nicolas05',\n",
              " 'p2share',\n",
              " '215466kenyi',\n",
              " 'jEzZXUTE3MgJ4fVk',\n",
              " 'koabcswzt3',\n",
              " 'nicolas05',\n",
              " 'tia150979',\n",
              " 'hisnipes1',\n",
              " 'ram@!sita15392',\n",
              " 'peluchin4',\n",
              " '1ngaymuadong',\n",
              " 'calcifer32',\n",
              " 'schalke04',\n",
              " '7mV0pKTA3MgHy8Jv',\n",
              " 'afavin964',\n",
              " '12345yolanda',\n",
              " 'examy624',\n",
              " 'mustang337',\n",
              " 'k9b8cz6aj2',\n",
              " 'cdann123',\n",
              " 'hosna1368',\n",
              " 'folashade1',\n",
              " 'wo9aiwangyan',\n",
              " '26522876p',\n",
              " 'wisal1234',\n",
              " 'faranumar91',\n",
              " 'ycqtgdso3',\n",
              " 'yut0838828185',\n",
              " 'v10rica',\n",
              " 'enziitoo1234',\n",
              " 'finisterra1',\n",
              " 'oioo9og',\n",
              " 'intel1',\n",
              " 'X9WVojjE4MgVAIiR',\n",
              " 'pato221182',\n",
              " 'sanjaime1',\n",
              " 'xyws951753',\n",
              " 'wycinu436',\n",
              " 's0xwym7h',\n",
              " 'yk530mg8',\n",
              " 'marita1',\n",
              " 'ycqtgdso3',\n",
              " '123nicole',\n",
              " 'yu86640132',\n",
              " 'kenneth610',\n",
              " 'djngeyut2707',\n",
              " 'ldteugao6',\n",
              " 'jr88072635',\n",
              " 'oioo9og',\n",
              " 'yy4129',\n",
              " 'klara-tershina3H',\n",
              " 'matiofox08',\n",
              " 'pHyqueDIyNQ8vmhb',\n",
              " 'vuqADUSatAJO800',\n",
              " 'khaled12',\n",
              " 'cockw0mble',\n",
              " 'beijing168',\n",
              " 'AS0130066',\n",
              " 'gkrqjs6',\n",
              " 'kjkjkj1',\n",
              " 'fahad123',\n",
              " 'kenneth610',\n",
              " 'sarahi1628',\n",
              " 'krishna2',\n",
              " 'llahetihw1',\n",
              " 'lrhxmevb620',\n",
              " 'sanjaime1',\n",
              " 'pazzini24',\n",
              " 'sd6x9s3s',\n",
              " 'gtlek',\n",
              " 'pablo321159',\n",
              " 'virush1n1',\n",
              " 'j09000',\n",
              " 'a2486315',\n",
              " 'elabadmin1386',\n",
              " '10Erjrlmebup0n',\n",
              " 'fnmsdha476',\n",
              " 'w9209640',\n",
              " 'hisnipes1',\n",
              " 'planes123',\n",
              " 'schalke04',\n",
              " 'kayal123',\n",
              " 'klara-tershina3H',\n",
              " 'ass359',\n",
              " '3vszncp4',\n",
              " 'a2486315',\n",
              " 'ebogel225',\n",
              " 'ryjypes139',\n",
              " 'buqodym199',\n",
              " 'finisterra1',\n",
              " 'yu86640132',\n",
              " 'cerner09',\n",
              " 'teemteem97',\n",
              " 'puegwajy416',\n",
              " 'bgrvl80',\n",
              " 'kzde5577',\n",
              " 'roxana1993',\n",
              " 'spl51190595',\n",
              " '0870330135a',\n",
              " 'elyass15@ajilent-ci',\n",
              " 'xtswdypgh936',\n",
              " 'holamundo1',\n",
              " 'intel1',\n",
              " 'clyioqzgw42',\n",
              " 'mario489800',\n",
              " 'd04m11',\n",
              " 'portales1',\n",
              " '1qa2ws3ed4rf',\n",
              " 'tukaxo486',\n",
              " 'rogyh820',\n",
              " 'Staterkom20081993',\n",
              " '3CgRg8DA1NQY1iEj',\n",
              " 'den019520',\n",
              " 'cerner09',\n",
              " 'farrukhcse12',\n",
              " 'b98nwtpriyesh',\n",
              " 'atigi839',\n",
              " 'yu4cmn',\n",
              " 'cUFUSYKIPuGo024',\n",
              " 'AS0130066',\n",
              " 'rogyh820',\n",
              " '12345yolanda',\n",
              " 'meriton23',\n",
              " 'elyass15@ajilent-ci',\n",
              " 'k9b8cz6aj2',\n",
              " 'spl51190595',\n",
              " 'tia150979',\n",
              " 'IjUcOtYqAwel725',\n",
              " 'terrassa6',\n",
              " 'kP82iqDMxNgBMxBP',\n",
              " 'g067057895',\n",
              " 'XqMB7vDMzOQocAFV',\n",
              " 'spl51190595',\n",
              " 'sanjaime1',\n",
              " 'RPFUOUDQwMwVW0AS',\n",
              " '16731673ir',\n",
              " 'frhnsvelhfr1',\n",
              " 'graciela2',\n",
              " '123maxbala',\n",
              " 'RqsuUsDYxNgr8T40',\n",
              " 'afavin964',\n",
              " 'sbaUsoTA1OAzuevI',\n",
              " 'idofo673',\n",
              " 'saule123',\n",
              " 'qwekl12',\n",
              " 'yk530mg8',\n",
              " 'IRZA98',\n",
              " 'han19660120',\n",
              " 'barboza221294',\n",
              " 'hosna1368',\n",
              " 'sebax2013',\n",
              " 'zoobike04',\n",
              " 'deryxi704',\n",
              " 'faranumar91',\n",
              " 'graciela2',\n",
              " 'kikeq102',\n",
              " 'alimagik1',\n",
              " 'ginger972',\n",
              " 'yitbos77',\n",
              " 'iwaguh884',\n",
              " 'bozoxik602',\n",
              " 'QWERTY0011',\n",
              " 'ebacuro434',\n",
              " 'lofebop480',\n",
              " 'ga98SIzk0NwhiZaE',\n",
              " 'a110804032',\n",
              " 'sydney213',\n",
              " '2021848709.',\n",
              " 'zgmfnwuq25',\n",
              " 'ppnyadam09',\n",
              " 'hqh2eYjQxOQPYIsA',\n",
              " 'q0pv0fk',\n",
              " 'plumilla1',\n",
              " 'pugceya468',\n",
              " 'yy4129',\n",
              " 'den019520',\n",
              " 'faranumar91',\n",
              " 'hodygid757',\n",
              " 'VMjz4eTkxNAbOyUU',\n",
              " 'teemteem97',\n",
              " 'jbtcnd6',\n",
              " 'yy4129',\n",
              " 'ekufite742',\n",
              " 'krumbul123',\n",
              " 'www32223222',\n",
              " 'ebacuro434',\n",
              " 'g067057895',\n",
              " 'h1h2h3h4h5',\n",
              " 'franczuk33',\n",
              " 'tin030201',\n",
              " 'il0vey0u',\n",
              " 'YADHJIGSAWS11',\n",
              " '3f5xd41l0ik7',\n",
              " 'clumsy0619',\n",
              " 'jonothepoop1',\n",
              " '838188linh',\n",
              " 'mario489800',\n",
              " 'josue12',\n",
              " 'virush1n1',\n",
              " 'RqsuUsDYxNgr8T40',\n",
              " '600eretz',\n",
              " 'zcsntdmhe098',\n",
              " 'qn5xpg3k00',\n",
              " 'e667794c1d',\n",
              " 'servbot88',\n",
              " 'tia150979',\n",
              " 'as326159',\n",
              " 'servbot88',\n",
              " 'kinga22',\n",
              " '123net123',\n",
              " 'kry1z9',\n",
              " 'Scipio21152030067254',\n",
              " '283671gus',\n",
              " 'fbjurcd961',\n",
              " 'Ju6BIMTU0MwYXtL4',\n",
              " 'ycqtgdso3',\n",
              " 'AVYq1lDE4MgAZfNt',\n",
              " 'tspirits08',\n",
              " 'kukimuki123',\n",
              " 'parent777',\n",
              " 'ejeko677',\n",
              " '05bumd',\n",
              " 'fbjurcd961',\n",
              " 'cesarmaio1',\n",
              " 'eVl19ADIxNAmU09N',\n",
              " 'n501iomf',\n",
              " 'bencike7',\n",
              " 'kswa2mrv',\n",
              " 'omakiva153',\n",
              " 'icap12',\n",
              " 'planes123',\n",
              " 'fnmsdha476',\n",
              " 'Oshity07142014',\n",
              " 'a2531106',\n",
              " 'lollies1989',\n",
              " 'cristiano7',\n",
              " 'barboza221294',\n",
              " 'gpc151192',\n",
              " 'virush1n1',\n",
              " 'studenko123',\n",
              " 'raykuaz32',\n",
              " 'parent777',\n",
              " 'elyass15@ajilent-ci',\n",
              " 'go7kew7a2po',\n",
              " 'xtswdypgh936',\n",
              " '3f5xd41l0ik7',\n",
              " 'j2yj2yj2y',\n",
              " 'X9WVojjE4MgVAIiR',\n",
              " 'ga98SIzk0NwhiZaE',\n",
              " 'rLLh4WDQ2OAWbDO5',\n",
              " 'gpc151192',\n",
              " 'lzhzad1989',\n",
              " 'www32223222',\n",
              " '33kanun03',\n",
              " 'gerardway1',\n",
              " 'megzy123',\n",
              " 'as326159',\n",
              " 'barra23',\n",
              " 'han19660120',\n",
              " 'jcav26',\n",
              " '19821010a',\n",
              " 'qwekl12',\n",
              " 'kyodai666',\n",
              " 'lymuvop730',\n",
              " 'h1h2h3h4h5',\n",
              " 'sanki1',\n",
              " 'gedu1t1ah',\n",
              " 'oekojWyH120063',\n",
              " 'mickael12',\n",
              " 'DTUQG5jU5MwmR1L9',\n",
              " 'parent777',\n",
              " 'juany57',\n",
              " 'wycinu436',\n",
              " 'gill02',\n",
              " 'h1h2h3h4h5',\n",
              " 'klara-tershina3H',\n",
              " 'alhama11408',\n",
              " 'zgmfnwuq25',\n",
              " 'gpc151192',\n",
              " 'gpc151192',\n",
              " 'whosdabest1',\n",
              " '2akira2',\n",
              " '746xitEGiqObog',\n",
              " 'buqodym199',\n",
              " 'deryxi704',\n",
              " 'qwekl12',\n",
              " 'change201',\n",
              " '23deagosto',\n",
              " 'asakapa22',\n",
              " 'rsuvxz08b',\n",
              " 'paladinas1',\n",
              " '72o0yzekib4',\n",
              " 'hlQ8gDTExMQWkeda',\n",
              " '123maxbala',\n",
              " 'kjkjkj1',\n",
              " 'hlQ8gDTExMQWkeda',\n",
              " 'visi7k1yr',\n",
              " 'jeeves123',\n",
              " 'parent777',\n",
              " 'c1brb3lt',\n",
              " 'znbl5tj1',\n",
              " 'topgan22',\n",
              " 'taurofive16',\n",
              " 'taurofive16',\n",
              " 'kitty555',\n",
              " 'hello2104',\n",
              " 'amandine666',\n",
              " 'd6VyrkFV6oblxNs5N8cW',\n",
              " 'yqugu927',\n",
              " 'atigi839',\n",
              " 'd6VyrkFV6oblxNs5N8cW',\n",
              " 'wasanun13',\n",
              " 'stalucia66',\n",
              " 'BsKbJHTY4NgesCOs',\n",
              " 'jekkmoeder>',\n",
              " 'control9',\n",
              " 'czuodhj972',\n",
              " 'ekufite742',\n",
              " 'AS0130066',\n",
              " 'd04m11',\n",
              " 'onurb1994',\n",
              " 'mazdarx7',\n",
              " 'wisal1234',\n",
              " '631ihOZogELoVap',\n",
              " 'ayles2266',\n",
              " 'deivid1991',\n",
              " 'kinga22',\n",
              " 'pxjwmeqyn5',\n",
              " 'upomel180',\n",
              " '05bumd',\n",
              " '1972vishara',\n",
              " 'satelite31',\n",
              " 'ass359',\n",
              " 't8IkFRDIxMAFV2JW',\n",
              " 'caramelo9',\n",
              " 'afs34214',\n",
              " 'ci0n3exor',\n",
              " 'snolyuj04',\n",
              " 'witek1709',\n",
              " 'synyxyr723',\n",
              " 'Ju6BIMTU0MwYXtL4',\n",
              " 'g3rappa',\n",
              " 'alimagik1',\n",
              " 'lqksuym982',\n",
              " 's0xwym7h',\n",
              " '52756652a',\n",
              " 'samael666',\n",
              " 'zedika521',\n",
              " 'acetita478',\n",
              " 'kino3434',\n",
              " 'khaled12',\n",
              " 'megzy123',\n",
              " 'PEPITO00',\n",
              " 'frhnsvelhfr1',\n",
              " 'mussuh4',\n",
              " 'vietnga92',\n",
              " 'paladinas1',\n",
              " '0112358mayin0',\n",
              " 'jcav26',\n",
              " 'taurofive16',\n",
              " 'wuzsadav933',\n",
              " 'sun4shine76',\n",
              " 'as326159',\n",
              " 'daaxvie1',\n",
              " 'pacific52',\n",
              " '64959rodro',\n",
              " 'change201',\n",
              " 'deryxi704',\n",
              " 'pazzini24',\n",
              " '2d0d7qfz',\n",
              " 'ydkmujrze3',\n",
              " 'bgrvl80',\n",
              " 'zidadoh258',\n",
              " 'regodib479',\n",
              " 'kyodai666',\n",
              " 'bafiqkxwu0',\n",
              " 'mdaffandi74',\n",
              " 'iprwxmfk84',\n",
              " 'caramelo9',\n",
              " 'zcsntdmhe098',\n",
              " 'wycinu436',\n",
              " 'graciela2',\n",
              " 'mike09',\n",
              " 'asv5o9yu',\n",
              " 'faqih82',\n",
              " 'alchimie79',\n",
              " 'kyxvufl37',\n",
              " 'tahseen75',\n",
              " 'diarie1',\n",
              " '05bumd',\n",
              " 'p2share',\n",
              " 'cyborged69',\n",
              " 'J0LcDWDc2NAVE8j3',\n",
              " 'd6VyrkFV6oblxNs5N8cW',\n",
              " '1972vishara',\n",
              " 'qopybuxi2',\n",
              " 'oekojWyH120063',\n",
              " 'iwaguh884',\n",
              " 'kP82iqDMxNgBMxBP',\n",
              " 'ebogel225',\n",
              " '01161590m',\n",
              " 'tspirits08',\n",
              " 'krumbul123',\n",
              " 'AVYq1lDE4MgAZfNt',\n",
              " 'seng987321',\n",
              " 'tomas7896',\n",
              " '2d0d7qfz',\n",
              " 'tot2531s',\n",
              " '20010509wang',\n",
              " '10Erjrlmebup0n',\n",
              " 'hlQ8gDTExMQWkeda',\n",
              " '6975038lp',\n",
              " 'arigato3',\n",
              " 'we34dar88',\n",
              " 'azizi120583',\n",
              " 'il0vey0u',\n",
              " 'jr88072635',\n",
              " '1ngaymuadong',\n",
              " '6tequila6',\n",
              " 'warriors08',\n",
              " 'webstudio8',\n",
              " 'mega0109',\n",
              " 'control9',\n",
              " '5gzj5uf',\n",
              " 'bafiqkxwu0',\n",
              " 'pikey231',\n",
              " 'hisnipes1',\n",
              " '123nicole',\n",
              " 'josue12',\n",
              " 'limichan99',\n",
              " 'princ3sa',\n",
              " 'cockw0mble',\n",
              " '090mca090',\n",
              " 'bafiqkxwu0',\n",
              " 'umetic21',\n",
              " '12345yolanda',\n",
              " 'umetic21',\n",
              " 'xW8-3w7-MFB-CKH',\n",
              " 'itengf12',\n",
              " 'v1118714',\n",
              " 'pukiw102',\n",
              " 'jalingo1',\n",
              " 'gedu1t1ah',\n",
              " 'nello11',\n",
              " 'kjkjkj1',\n",
              " 'anon13',\n",
              " 'zendegi2me',\n",
              " 'meriton23',\n",
              " 'xtswdypgh936',\n",
              " 'tot2531s',\n",
              " '283671gus',\n",
              " 'qefoquf1uf',\n",
              " '01161590m',\n",
              " 'ihana906',\n",
              " 'folashade1',\n",
              " 'aosmaxd0',\n",
              " 'acgyj188',\n",
              " 'exitos2009',\n",
              " '6yy6yy',\n",
              " 'jsm159167',\n",
              " 'oioo9og',\n",
              " 'igejasy712',\n",
              " 'yami12',\n",
              " '1jancok',\n",
              " 'YADHJIGSAWS11',\n",
              " 'XqMB7vDMzOQocAFV',\n",
              " 'ekufite742',\n",
              " 'universe2908',\n",
              " 'BZVQZBTM1MApRV7s',\n",
              " 't8IkFRDIxMAFV2JW',\n",
              " '10Erjrlmebup0n',\n",
              " 'daaxvie1',\n",
              " 'mndzbqkv651',\n",
              " 'rqmswof2llb0',\n",
              " 'a03242241431a',\n",
              " 's9830950044',\n",
              " '3f5xd41l0ik7',\n",
              " 'c1brb3lt',\n",
              " '030005qw',\n",
              " 'nello11',\n",
              " 'enziitoo1234',\n",
              " 'kukimuki123',\n",
              " 'sbnivetha123',\n",
              " 'shotiko18',\n",
              " 'graciela2',\n",
              " 'daaxvie1',\n",
              " '23deagosto',\n",
              " 'vestax25',\n",
              " 'as8594505',\n",
              " 'ginger972',\n",
              " 'visi7k1yr',\n",
              " '238wofutUtIGyf',\n",
              " 'acgyj188',\n",
              " 'jytifok873',\n",
              " 'sgtg5fq',\n",
              " 'gracimir87',\n",
              " 'peter04',\n",
              " '4lgYVfzk1MwuzHcn',\n",
              " 'jesmond26',\n",
              " 'a0972986650',\n",
              " 'mel008',\n",
              " 'UF1Z2WjE5Mg26R1K',\n",
              " 'wuzsadav933',\n",
              " 'xp;ysmybst',\n",
              " 'shotiko18',\n",
              " 'lsdlsd1',\n",
              " 'puegwajy416',\n",
              " 'markama10',\n",
              " 'mtvwyz001',\n",
              " 'olyucskw52',\n",
              " 'mzhrmir786',\n",
              " '6975038lp',\n",
              " 'xie635891',\n",
              " 'PEPITO00',\n",
              " 'uqilyni846',\n",
              " 'hasan18',\n",
              " 'x57669',\n",
              " 'popo0404',\n",
              " '1991vikash',\n",
              " '248sUqiFEJuRag',\n",
              " 'gonzalez1559',\n",
              " 'akucinta12',\n",
              " 'junaid5',\n",
              " 'sarahi1628',\n",
              " 'ixehawojEPe418',\n",
              " 'jUV4dSDQwNwPpA36',\n",
              " 'Truelove19902610',\n",
              " 'IP1yaTDUzOQWAeI5',\n",
              " 'josue12',\n",
              " '838188linh',\n",
              " 'parent777',\n",
              " 'bghuyku37',\n",
              " 'xve33ea',\n",
              " 'yami12',\n",
              " 'Ju6BIMTU0MwYXtL4',\n",
              " 'kdl9cl53',\n",
              " 'hot622204',\n",
              " 'warriors08',\n",
              " 'puegwajy416',\n",
              " 'sebo82',\n",
              " 'sd6x9s3s',\n",
              " 'qopybuxi2',\n",
              " 'cockw0mble',\n",
              " 'numero2',\n",
              " 'josue12',\n",
              " 'klara-tershina3H',\n",
              " 'owote852',\n",
              " '1qa2ws3ed4r',\n",
              " 'nLIGyhTU1NQTAp6u',\n",
              " 'gutergut599',\n",
              " 'ixohupo747',\n",
              " 'ikanez886',\n",
              " '12rabialawwal',\n",
              " 'mark11',\n",
              " 'X9WVojjE4MgVAIiR',\n",
              " 'lancer319',\n",
              " 'a110804032',\n",
              " 'ts34a3fodh3i',\n",
              " 'qopybuxi2',\n",
              " 'jr88072635',\n",
              " 'obstacle25',\n",
              " 'linhna288',\n",
              " 'dK4dWOjM1OAPeisw',\n",
              " 'gdfn76',\n",
              " 'mathilde54550',\n",
              " 'herherher1',\n",
              " 'in595462',\n",
              " 'satelite31',\n",
              " '929865yt',\n",
              " 'yk530mg8',\n",
              " 'aquhih220',\n",
              " 'adfbwrnt4',\n",
              " 'gdfn76',\n",
              " 'cristiano7',\n",
              " 'as8594505',\n",
              " 'islamasma12',\n",
              " 'kino3434',\n",
              " 'demanet147',\n",
              " 'savas123x',\n",
              " 'synyxyr723',\n",
              " 'ashaii12',\n",
              " 'gkrqjs6',\n",
              " 'a1233210',\n",
              " 'ajyrew547',\n",
              " 'tukaxo486',\n",
              " 'visi7k1yr',\n",
              " '3f5xd41l0ik7',\n",
              " 'h3ndr4',\n",
              " 'eVl19ADIxNAmU09N',\n",
              " 'lsdlsd1',\n",
              " 'cigicigi123',\n",
              " 'eeae14li',\n",
              " '64whbrb351',\n",
              " 'clave08',\n",
              " 'sknq7m0',\n",
              " 'fk9qi21m',\n",
              " 'upomel180',\n",
              " 'Staterkom20081993',\n",
              " 'aa123000',\n",
              " 'asv5o9yu',\n",
              " 'afs34214',\n",
              " '159951josh',\n",
              " 'intel1',\n",
              " 'czuodhj972',\n",
              " '1245386fj',\n",
              " '6yy6yy',\n",
              " 'pauramos06',\n",
              " 'b98nwtpriyesh',\n",
              " 'kayal123',\n",
              " '631ihOZogELoVap',\n",
              " 'yk530mg8',\n",
              " 'x8512514',\n",
              " 'IjUcOtYqAwel725',\n",
              " 'bc5e4vca',\n",
              " 'pekai2004',\n",
              " 'jkprm45',\n",
              " 'e667794c1d',\n",
              " 'v8porwar3',\n",
              " 'bghuyku37',\n",
              " 'ycqtgdso3',\n",
              " 'oscar69',\n",
              " 'ayles2266',\n",
              " 'josef0867',\n",
              " 'sanjaime1',\n",
              " '0lELoCDI1NAy8u7D',\n",
              " 'bugatti01',\n",
              " '69556236gu',\n",
              " 'hlQ8gDTExMQWkeda',\n",
              " 'v1118714',\n",
              " '123maxbala',\n",
              " 'darktime66',\n",
              " 'hola45',\n",
              " '26522876p',\n",
              " 'isqizkg1',\n",
              " 'yhigkenj5',\n",
              " 'komorek11',\n",
              " 'zu20081965',\n",
              " 'yeko69',\n",
              " 'yeko69',\n",
              " '2652033abc',\n",
              " 'kashyn777',\n",
              " '5874813o',\n",
              " 'twil8x0',\n",
              " 'XqMB7vDMzOQocAFV',\n",
              " 'kevin24',\n",
              " 'darktime66',\n",
              " 'pato221182',\n",
              " 'ureqis557',\n",
              " 'Jovan13lovekenthjusvan4ever',\n",
              " 'yk530mg8',\n",
              " 'jkprm45',\n",
              " 'lollies1989',\n",
              " 'idyi5qc',\n",
              " 'nicolas05',\n",
              " 'sbnivetha123',\n",
              " 'weicat12',\n",
              " 'rogama69',\n",
              " 'ukyzopi369',\n",
              " 'jaciara25',\n",
              " 'osimeytju12',\n",
              " 'SLAEgyTk0OQxphJq',\n",
              " 'zedika521',\n",
              " 'BZVQZBTM1MApRV7s',\n",
              " 'kry1z9',\n",
              " '159951josh',\n",
              " 'elperro1',\n",
              " 'pacific52',\n",
              " '69556236gu',\n",
              " 'carla99',\n",
              " 'plumilla1',\n",
              " 'ureqis557',\n",
              " 'asdasdf1',\n",
              " ...]"
            ]
          },
          "metadata": {},
          "execution_count": 24
        }
      ],
      "source": [
        "x"
      ]
    },
    {
      "cell_type": "code",
      "execution_count": 24,
      "metadata": {
        "id": "q05iqjPizasu"
      },
      "outputs": [],
      "source": []
    },
    {
      "cell_type": "markdown",
      "metadata": {
        "id": "dd4OB3dezasv"
      },
      "source": [
        "#### create a custom function to split input into characters of list"
      ]
    },
    {
      "cell_type": "code",
      "execution_count": 25,
      "metadata": {
        "id": "1ra6MzvXzasv"
      },
      "outputs": [],
      "source": [
        "def word_divide_char(inputs):\n",
        "    character=[]\n",
        "    for i in inputs:\n",
        "        character.append(i)\n",
        "    return character"
      ]
    },
    {
      "cell_type": "code",
      "execution_count": 26,
      "metadata": {
        "id": "KMfULbkgzasv",
        "outputId": "3ddc0ef3-09ce-4840-893e-cca39fa8ff52",
        "colab": {
          "base_uri": "https://localhost:8080/"
        }
      },
      "outputs": [
        {
          "output_type": "execute_result",
          "data": {
            "text/plain": [
              "['k', 'z', 'd', 'e', '5', '5', '7', '7']"
            ]
          },
          "metadata": {},
          "execution_count": 26
        }
      ],
      "source": [
        "word_divide_char('kzde5577')"
      ]
    },
    {
      "cell_type": "code",
      "execution_count": 26,
      "metadata": {
        "id": "VDnQpx2Szasw"
      },
      "outputs": [],
      "source": []
    },
    {
      "cell_type": "markdown",
      "metadata": {
        "id": "IDOvbOFAzasw"
      },
      "source": [
        "#### import TF-IDF vectorizer to convert String data into numerical data"
      ]
    },
    {
      "cell_type": "code",
      "execution_count": 27,
      "metadata": {
        "id": "o-Pw4fgazasw"
      },
      "outputs": [],
      "source": [
        "from sklearn.feature_extraction.text import TfidfVectorizer"
      ]
    },
    {
      "cell_type": "code",
      "execution_count": 28,
      "metadata": {
        "id": "zpXzFJM1zasx"
      },
      "outputs": [],
      "source": [
        "vectorizer=TfidfVectorizer(tokenizer=word_divide_char)"
      ]
    },
    {
      "cell_type": "markdown",
      "metadata": {
        "id": "4KJzwgI1zasx"
      },
      "source": [
        "#### apply TF-IDF vectorizer on data"
      ]
    },
    {
      "cell_type": "code",
      "execution_count": 29,
      "metadata": {
        "id": "TLF3GVH9zasx"
      },
      "outputs": [],
      "source": [
        "X=vectorizer.fit_transform(x)"
      ]
    },
    {
      "cell_type": "code",
      "execution_count": 30,
      "metadata": {
        "id": "2vWU2vV4zasx",
        "outputId": "648ab556-3cc7-4869-a254-d85b7e9f3017",
        "colab": {
          "base_uri": "https://localhost:8080/"
        }
      },
      "outputs": [
        {
          "output_type": "execute_result",
          "data": {
            "text/plain": [
              "(830746, 136)"
            ]
          },
          "metadata": {},
          "execution_count": 30
        }
      ],
      "source": [
        "X.shape"
      ]
    },
    {
      "cell_type": "code",
      "execution_count": 31,
      "metadata": {
        "id": "KaoIhXQkzasy",
        "outputId": "210823d6-7db2-435f-ec96-8c71cad65f9d",
        "colab": {
          "base_uri": "https://localhost:8080/"
        }
      },
      "outputs": [
        {
          "output_type": "execute_result",
          "data": {
            "text/plain": [
              "['\\x05',\n",
              " '\\x08',\n",
              " '\\x0f',\n",
              " '\\x10',\n",
              " '\\x11',\n",
              " '\\x12',\n",
              " '\\x13',\n",
              " '\\x16',\n",
              " '\\x17',\n",
              " '\\x18',\n",
              " '\\x19',\n",
              " '\\x1b',\n",
              " '\\x1c',\n",
              " '\\x1d',\n",
              " '\\x1e',\n",
              " ' ',\n",
              " '!',\n",
              " '\"',\n",
              " '#',\n",
              " '$',\n",
              " '%',\n",
              " '&',\n",
              " '(',\n",
              " ')',\n",
              " '*',\n",
              " '+',\n",
              " '-',\n",
              " '.',\n",
              " '/',\n",
              " '0',\n",
              " '1',\n",
              " '2',\n",
              " '3',\n",
              " '4',\n",
              " '5',\n",
              " '6',\n",
              " '7',\n",
              " '8',\n",
              " '9',\n",
              " ';',\n",
              " '<',\n",
              " '=',\n",
              " '>',\n",
              " '?',\n",
              " '@',\n",
              " '[',\n",
              " '\\\\',\n",
              " ']',\n",
              " '^',\n",
              " '_',\n",
              " '`',\n",
              " 'a',\n",
              " 'b',\n",
              " 'c',\n",
              " 'd',\n",
              " 'e',\n",
              " 'f',\n",
              " 'g',\n",
              " 'h',\n",
              " 'i',\n",
              " 'j',\n",
              " 'k',\n",
              " 'l',\n",
              " 'm',\n",
              " 'n',\n",
              " 'o',\n",
              " 'p',\n",
              " 'q',\n",
              " 'r',\n",
              " 's',\n",
              " 't',\n",
              " 'u',\n",
              " 'v',\n",
              " 'w',\n",
              " 'x',\n",
              " 'y',\n",
              " 'z',\n",
              " '{',\n",
              " '|',\n",
              " '}',\n",
              " '~',\n",
              " '\\x7f',\n",
              " '\\x8d',\n",
              " '¡',\n",
              " '¦',\n",
              " '¨',\n",
              " '«',\n",
              " '°',\n",
              " '±',\n",
              " '²',\n",
              " '³',\n",
              " '´',\n",
              " 'µ',\n",
              " '¶',\n",
              " '·',\n",
              " '¹',\n",
              " 'º',\n",
              " '¼',\n",
              " '¾',\n",
              " '¿',\n",
              " '×',\n",
              " 'ß',\n",
              " 'à',\n",
              " 'á',\n",
              " 'â',\n",
              " 'ã',\n",
              " 'ä',\n",
              " 'å',\n",
              " 'æ',\n",
              " 'ç',\n",
              " 'ê',\n",
              " 'í',\n",
              " 'î',\n",
              " 'ï',\n",
              " 'ð',\n",
              " 'ñ',\n",
              " 'ò',\n",
              " 'ó',\n",
              " 'ô',\n",
              " 'õ',\n",
              " 'ö',\n",
              " '÷',\n",
              " 'ù',\n",
              " 'ú',\n",
              " 'û',\n",
              " 'ü',\n",
              " 'ý',\n",
              " 'þ',\n",
              " 'ÿ',\n",
              " 'œ',\n",
              " '—',\n",
              " '‚',\n",
              " '…',\n",
              " '‹',\n",
              " '›',\n",
              " '™']"
            ]
          },
          "metadata": {},
          "execution_count": 31
        }
      ],
      "source": [
        "vectorizer.get_feature_names()"
      ]
    },
    {
      "cell_type": "code",
      "execution_count": 32,
      "metadata": {
        "id": "hEiAzs1Mzasy",
        "outputId": "716dfa04-8e97-47b4-83ad-4529e7fdc537",
        "colab": {
          "base_uri": "https://localhost:8080/"
        }
      },
      "outputs": [
        {
          "output_type": "execute_result",
          "data": {
            "text/plain": [
              "<1x136 sparse matrix of type '<class 'numpy.float64'>'\n",
              "\twith 6 stored elements in Compressed Sparse Row format>"
            ]
          },
          "metadata": {},
          "execution_count": 32
        }
      ],
      "source": [
        "first_document_vector=X[0]\n",
        "first_document_vector"
      ]
    },
    {
      "cell_type": "code",
      "execution_count": 33,
      "metadata": {
        "id": "3AGaaftXzasy",
        "outputId": "f41c2a97-c841-4da9-bec5-20b311ba733c",
        "colab": {
          "base_uri": "https://localhost:8080/"
        }
      },
      "outputs": [
        {
          "output_type": "execute_result",
          "data": {
            "text/plain": [
              "matrix([[0.        ],\n",
              "        [0.        ],\n",
              "        [0.        ],\n",
              "        [0.        ],\n",
              "        [0.        ],\n",
              "        [0.        ],\n",
              "        [0.        ],\n",
              "        [0.        ],\n",
              "        [0.        ],\n",
              "        [0.        ],\n",
              "        [0.        ],\n",
              "        [0.        ],\n",
              "        [0.        ],\n",
              "        [0.        ],\n",
              "        [0.        ],\n",
              "        [0.        ],\n",
              "        [0.        ],\n",
              "        [0.        ],\n",
              "        [0.        ],\n",
              "        [0.        ],\n",
              "        [0.        ],\n",
              "        [0.        ],\n",
              "        [0.        ],\n",
              "        [0.        ],\n",
              "        [0.        ],\n",
              "        [0.        ],\n",
              "        [0.        ],\n",
              "        [0.        ],\n",
              "        [0.        ],\n",
              "        [0.        ],\n",
              "        [0.        ],\n",
              "        [0.        ],\n",
              "        [0.        ],\n",
              "        [0.        ],\n",
              "        [0.56711261],\n",
              "        [0.        ],\n",
              "        [0.59109833],\n",
              "        [0.        ],\n",
              "        [0.        ],\n",
              "        [0.        ],\n",
              "        [0.        ],\n",
              "        [0.        ],\n",
              "        [0.        ],\n",
              "        [0.        ],\n",
              "        [0.        ],\n",
              "        [0.        ],\n",
              "        [0.        ],\n",
              "        [0.        ],\n",
              "        [0.        ],\n",
              "        [0.        ],\n",
              "        [0.        ],\n",
              "        [0.        ],\n",
              "        [0.        ],\n",
              "        [0.        ],\n",
              "        [0.28571459],\n",
              "        [0.2210699 ],\n",
              "        [0.        ],\n",
              "        [0.        ],\n",
              "        [0.        ],\n",
              "        [0.        ],\n",
              "        [0.        ],\n",
              "        [0.2923032 ],\n",
              "        [0.        ],\n",
              "        [0.        ],\n",
              "        [0.        ],\n",
              "        [0.        ],\n",
              "        [0.        ],\n",
              "        [0.        ],\n",
              "        [0.        ],\n",
              "        [0.        ],\n",
              "        [0.        ],\n",
              "        [0.        ],\n",
              "        [0.        ],\n",
              "        [0.        ],\n",
              "        [0.        ],\n",
              "        [0.        ],\n",
              "        [0.33621445],\n",
              "        [0.        ],\n",
              "        [0.        ],\n",
              "        [0.        ],\n",
              "        [0.        ],\n",
              "        [0.        ],\n",
              "        [0.        ],\n",
              "        [0.        ],\n",
              "        [0.        ],\n",
              "        [0.        ],\n",
              "        [0.        ],\n",
              "        [0.        ],\n",
              "        [0.        ],\n",
              "        [0.        ],\n",
              "        [0.        ],\n",
              "        [0.        ],\n",
              "        [0.        ],\n",
              "        [0.        ],\n",
              "        [0.        ],\n",
              "        [0.        ],\n",
              "        [0.        ],\n",
              "        [0.        ],\n",
              "        [0.        ],\n",
              "        [0.        ],\n",
              "        [0.        ],\n",
              "        [0.        ],\n",
              "        [0.        ],\n",
              "        [0.        ],\n",
              "        [0.        ],\n",
              "        [0.        ],\n",
              "        [0.        ],\n",
              "        [0.        ],\n",
              "        [0.        ],\n",
              "        [0.        ],\n",
              "        [0.        ],\n",
              "        [0.        ],\n",
              "        [0.        ],\n",
              "        [0.        ],\n",
              "        [0.        ],\n",
              "        [0.        ],\n",
              "        [0.        ],\n",
              "        [0.        ],\n",
              "        [0.        ],\n",
              "        [0.        ],\n",
              "        [0.        ],\n",
              "        [0.        ],\n",
              "        [0.        ],\n",
              "        [0.        ],\n",
              "        [0.        ],\n",
              "        [0.        ],\n",
              "        [0.        ],\n",
              "        [0.        ],\n",
              "        [0.        ],\n",
              "        [0.        ],\n",
              "        [0.        ],\n",
              "        [0.        ],\n",
              "        [0.        ],\n",
              "        [0.        ],\n",
              "        [0.        ],\n",
              "        [0.        ]])"
            ]
          },
          "metadata": {},
          "execution_count": 33
        }
      ],
      "source": [
        "first_document_vector.T.todense()"
      ]
    },
    {
      "cell_type": "code",
      "execution_count": 34,
      "metadata": {
        "id": "4BzbtEnjzasz",
        "outputId": "823de33d-4df5-4326-f78c-8e2133da4a3c",
        "colab": {
          "base_uri": "https://localhost:8080/",
          "height": 424
        }
      },
      "outputs": [
        {
          "output_type": "execute_result",
          "data": {
            "text/plain": [
              "      TF-IDF\n",
              "7   0.591098\n",
              "5   0.567113\n",
              "z   0.336214\n",
              "k   0.292303\n",
              "d   0.285715\n",
              "..       ...\n",
              "<   0.000000\n",
              ";   0.000000\n",
              "9   0.000000\n",
              "8   0.000000\n",
              "™   0.000000\n",
              "\n",
              "[136 rows x 1 columns]"
            ],
            "text/html": [
              "\n",
              "  <div id=\"df-44566bdb-fd58-48f0-8bda-5d2ac8460641\">\n",
              "    <div class=\"colab-df-container\">\n",
              "      <div>\n",
              "<style scoped>\n",
              "    .dataframe tbody tr th:only-of-type {\n",
              "        vertical-align: middle;\n",
              "    }\n",
              "\n",
              "    .dataframe tbody tr th {\n",
              "        vertical-align: top;\n",
              "    }\n",
              "\n",
              "    .dataframe thead th {\n",
              "        text-align: right;\n",
              "    }\n",
              "</style>\n",
              "<table border=\"1\" class=\"dataframe\">\n",
              "  <thead>\n",
              "    <tr style=\"text-align: right;\">\n",
              "      <th></th>\n",
              "      <th>TF-IDF</th>\n",
              "    </tr>\n",
              "  </thead>\n",
              "  <tbody>\n",
              "    <tr>\n",
              "      <th>7</th>\n",
              "      <td>0.591098</td>\n",
              "    </tr>\n",
              "    <tr>\n",
              "      <th>5</th>\n",
              "      <td>0.567113</td>\n",
              "    </tr>\n",
              "    <tr>\n",
              "      <th>z</th>\n",
              "      <td>0.336214</td>\n",
              "    </tr>\n",
              "    <tr>\n",
              "      <th>k</th>\n",
              "      <td>0.292303</td>\n",
              "    </tr>\n",
              "    <tr>\n",
              "      <th>d</th>\n",
              "      <td>0.285715</td>\n",
              "    </tr>\n",
              "    <tr>\n",
              "      <th>...</th>\n",
              "      <td>...</td>\n",
              "    </tr>\n",
              "    <tr>\n",
              "      <th>&lt;</th>\n",
              "      <td>0.000000</td>\n",
              "    </tr>\n",
              "    <tr>\n",
              "      <th>;</th>\n",
              "      <td>0.000000</td>\n",
              "    </tr>\n",
              "    <tr>\n",
              "      <th>9</th>\n",
              "      <td>0.000000</td>\n",
              "    </tr>\n",
              "    <tr>\n",
              "      <th>8</th>\n",
              "      <td>0.000000</td>\n",
              "    </tr>\n",
              "    <tr>\n",
              "      <th>™</th>\n",
              "      <td>0.000000</td>\n",
              "    </tr>\n",
              "  </tbody>\n",
              "</table>\n",
              "<p>136 rows × 1 columns</p>\n",
              "</div>\n",
              "      <button class=\"colab-df-convert\" onclick=\"convertToInteractive('df-44566bdb-fd58-48f0-8bda-5d2ac8460641')\"\n",
              "              title=\"Convert this dataframe to an interactive table.\"\n",
              "              style=\"display:none;\">\n",
              "        \n",
              "  <svg xmlns=\"http://www.w3.org/2000/svg\" height=\"24px\"viewBox=\"0 0 24 24\"\n",
              "       width=\"24px\">\n",
              "    <path d=\"M0 0h24v24H0V0z\" fill=\"none\"/>\n",
              "    <path d=\"M18.56 5.44l.94 2.06.94-2.06 2.06-.94-2.06-.94-.94-2.06-.94 2.06-2.06.94zm-11 1L8.5 8.5l.94-2.06 2.06-.94-2.06-.94L8.5 2.5l-.94 2.06-2.06.94zm10 10l.94 2.06.94-2.06 2.06-.94-2.06-.94-.94-2.06-.94 2.06-2.06.94z\"/><path d=\"M17.41 7.96l-1.37-1.37c-.4-.4-.92-.59-1.43-.59-.52 0-1.04.2-1.43.59L10.3 9.45l-7.72 7.72c-.78.78-.78 2.05 0 2.83L4 21.41c.39.39.9.59 1.41.59.51 0 1.02-.2 1.41-.59l7.78-7.78 2.81-2.81c.8-.78.8-2.07 0-2.86zM5.41 20L4 18.59l7.72-7.72 1.47 1.35L5.41 20z\"/>\n",
              "  </svg>\n",
              "      </button>\n",
              "      \n",
              "  <style>\n",
              "    .colab-df-container {\n",
              "      display:flex;\n",
              "      flex-wrap:wrap;\n",
              "      gap: 12px;\n",
              "    }\n",
              "\n",
              "    .colab-df-convert {\n",
              "      background-color: #E8F0FE;\n",
              "      border: none;\n",
              "      border-radius: 50%;\n",
              "      cursor: pointer;\n",
              "      display: none;\n",
              "      fill: #1967D2;\n",
              "      height: 32px;\n",
              "      padding: 0 0 0 0;\n",
              "      width: 32px;\n",
              "    }\n",
              "\n",
              "    .colab-df-convert:hover {\n",
              "      background-color: #E2EBFA;\n",
              "      box-shadow: 0px 1px 2px rgba(60, 64, 67, 0.3), 0px 1px 3px 1px rgba(60, 64, 67, 0.15);\n",
              "      fill: #174EA6;\n",
              "    }\n",
              "\n",
              "    [theme=dark] .colab-df-convert {\n",
              "      background-color: #3B4455;\n",
              "      fill: #D2E3FC;\n",
              "    }\n",
              "\n",
              "    [theme=dark] .colab-df-convert:hover {\n",
              "      background-color: #434B5C;\n",
              "      box-shadow: 0px 1px 3px 1px rgba(0, 0, 0, 0.15);\n",
              "      filter: drop-shadow(0px 1px 2px rgba(0, 0, 0, 0.3));\n",
              "      fill: #FFFFFF;\n",
              "    }\n",
              "  </style>\n",
              "\n",
              "      <script>\n",
              "        const buttonEl =\n",
              "          document.querySelector('#df-44566bdb-fd58-48f0-8bda-5d2ac8460641 button.colab-df-convert');\n",
              "        buttonEl.style.display =\n",
              "          google.colab.kernel.accessAllowed ? 'block' : 'none';\n",
              "\n",
              "        async function convertToInteractive(key) {\n",
              "          const element = document.querySelector('#df-44566bdb-fd58-48f0-8bda-5d2ac8460641');\n",
              "          const dataTable =\n",
              "            await google.colab.kernel.invokeFunction('convertToInteractive',\n",
              "                                                     [key], {});\n",
              "          if (!dataTable) return;\n",
              "\n",
              "          const docLinkHtml = 'Like what you see? Visit the ' +\n",
              "            '<a target=\"_blank\" href=https://colab.research.google.com/notebooks/data_table.ipynb>data table notebook</a>'\n",
              "            + ' to learn more about interactive tables.';\n",
              "          element.innerHTML = '';\n",
              "          dataTable['output_type'] = 'display_data';\n",
              "          await google.colab.output.renderOutput(dataTable, element);\n",
              "          const docLink = document.createElement('div');\n",
              "          docLink.innerHTML = docLinkHtml;\n",
              "          element.appendChild(docLink);\n",
              "        }\n",
              "      </script>\n",
              "    </div>\n",
              "  </div>\n",
              "  "
            ]
          },
          "metadata": {},
          "execution_count": 34
        }
      ],
      "source": [
        "df=pd.DataFrame(first_document_vector.T.todense(),index=vectorizer.get_feature_names(),columns=['TF-IDF'])\n",
        "df.sort_values(by=['TF-IDF'],ascending=False)"
      ]
    },
    {
      "cell_type": "code",
      "execution_count": 34,
      "metadata": {
        "id": "zXNomVX9zasz"
      },
      "outputs": [],
      "source": []
    },
    {
      "cell_type": "markdown",
      "metadata": {
        "id": "qt_n6JI5zasz"
      },
      "source": [
        "#### split data into train & test\n",
        "    train---> To learn the relationship within data, \n",
        "    test-->  To do predictions, and this testing data will be unseen to my model"
      ]
    },
    {
      "cell_type": "code",
      "execution_count": 35,
      "metadata": {
        "id": "Snta4Hbfzas0"
      },
      "outputs": [],
      "source": [
        "from sklearn.model_selection import train_test_split"
      ]
    },
    {
      "cell_type": "code",
      "execution_count": 36,
      "metadata": {
        "id": "9C15u_Jlzas0"
      },
      "outputs": [],
      "source": [
        "X_train, X_test, y_train, y_test=train_test_split(X,y,test_size=0.2)"
      ]
    },
    {
      "cell_type": "code",
      "execution_count": 37,
      "metadata": {
        "id": "sRD-BX3izas0",
        "outputId": "8b70f3f8-41af-4e36-a349-aa437419a12a",
        "colab": {
          "base_uri": "https://localhost:8080/"
        }
      },
      "outputs": [
        {
          "output_type": "execute_result",
          "data": {
            "text/plain": [
              "(664596, 136)"
            ]
          },
          "metadata": {},
          "execution_count": 37
        }
      ],
      "source": [
        "X_train.shape"
      ]
    },
    {
      "cell_type": "code",
      "execution_count": 38,
      "metadata": {
        "id": "xLo_sxvLzas0"
      },
      "outputs": [],
      "source": [
        "from sklearn.linear_model import LogisticRegression"
      ]
    },
    {
      "cell_type": "code",
      "execution_count": 38,
      "metadata": {
        "id": "v1xVWeU1zas1"
      },
      "outputs": [],
      "source": []
    },
    {
      "cell_type": "markdown",
      "metadata": {
        "id": "-NW42734zas1"
      },
      "source": [
        "#### Apply Logistic on data as use-cas is Classification"
      ]
    },
    {
      "cell_type": "code",
      "execution_count": 39,
      "metadata": {
        "id": "09cJYg-fzas1"
      },
      "outputs": [],
      "source": [
        "clf=LogisticRegression(random_state=0,multi_class='multinomial')"
      ]
    },
    {
      "cell_type": "code",
      "execution_count": 40,
      "metadata": {
        "id": "yjHSXAsmzas1",
        "outputId": "f95612fd-5860-47e7-a6ba-1d74322715a0",
        "colab": {
          "base_uri": "https://localhost:8080/"
        }
      },
      "outputs": [
        {
          "output_type": "execute_result",
          "data": {
            "text/plain": [
              "LogisticRegression(multi_class='multinomial', random_state=0)"
            ]
          },
          "metadata": {},
          "execution_count": 40
        }
      ],
      "source": [
        "clf.fit(X_train,y_train)"
      ]
    },
    {
      "cell_type": "code",
      "execution_count": 40,
      "metadata": {
        "id": "6h71OYE7zas2"
      },
      "outputs": [],
      "source": []
    },
    {
      "cell_type": "markdown",
      "metadata": {
        "id": "jub2G33ezas2"
      },
      "source": [
        "#### doing prediction for specific custom data"
      ]
    },
    {
      "cell_type": "code",
      "execution_count": 41,
      "metadata": {
        "id": "EqR7XeBUzas2",
        "outputId": "36738eab-1f2b-4644-d07d-468d11a90934",
        "colab": {
          "base_uri": "https://localhost:8080/"
        }
      },
      "outputs": [
        {
          "output_type": "execute_result",
          "data": {
            "text/plain": [
              "array([1.])"
            ]
          },
          "metadata": {},
          "execution_count": 41
        }
      ],
      "source": [
        "dt=np.array(['%@123abcd'])\n",
        "pred=vectorizer.transform(dt)\n",
        "clf.predict(pred)"
      ]
    },
    {
      "cell_type": "code",
      "execution_count": 41,
      "metadata": {
        "id": "yOP_kfDkzas2"
      },
      "outputs": [],
      "source": []
    },
    {
      "cell_type": "markdown",
      "metadata": {
        "id": "BSywVVLGzas2"
      },
      "source": [
        "#### doing prediction on X-Test data"
      ]
    },
    {
      "cell_type": "code",
      "execution_count": 42,
      "metadata": {
        "id": "Rcaev27mzas2",
        "outputId": "8d2b2578-e039-4b1d-bfcb-695b53023771",
        "colab": {
          "base_uri": "https://localhost:8080/"
        }
      },
      "outputs": [
        {
          "output_type": "execute_result",
          "data": {
            "text/plain": [
              "array([1., 1., 1., ..., 1., 1., 1.])"
            ]
          },
          "metadata": {},
          "execution_count": 42
        }
      ],
      "source": [
        "y_pred=clf.predict(X_test)\n",
        "y_pred"
      ]
    },
    {
      "cell_type": "code",
      "execution_count": 42,
      "metadata": {
        "id": "sg4TPkkjzas3"
      },
      "outputs": [],
      "source": []
    },
    {
      "cell_type": "markdown",
      "metadata": {
        "id": "hp4kVuAVzas3"
      },
      "source": [
        "#### check Accuracy of your model using confusion_matrix,accuracy_score"
      ]
    },
    {
      "cell_type": "code",
      "execution_count": 43,
      "metadata": {
        "id": "d3OkQCGOzas3"
      },
      "outputs": [],
      "source": [
        "from sklearn.metrics import confusion_matrix,accuracy_score"
      ]
    },
    {
      "cell_type": "code",
      "execution_count": 44,
      "metadata": {
        "id": "uC_SsSpnzas3",
        "outputId": "2f0c9451-8ea4-463f-84d5-3c561e271353",
        "colab": {
          "base_uri": "https://localhost:8080/"
        }
      },
      "outputs": [
        {
          "output_type": "stream",
          "name": "stdout",
          "text": [
            "[[  6469  15741     28]\n",
            " [  4644 115481   3078]\n",
            " [    46   6506  14157]]\n",
            "0.8191814625338549\n"
          ]
        }
      ],
      "source": [
        "cm=confusion_matrix(y_test,y_pred)\n",
        "print(cm)\n",
        "print(accuracy_score(y_test,y_pred))"
      ]
    },
    {
      "cell_type": "code",
      "execution_count": 44,
      "metadata": {
        "id": "IHbUXuPjzas3"
      },
      "outputs": [],
      "source": []
    },
    {
      "cell_type": "markdown",
      "metadata": {
        "id": "UsrWKI9zzas3"
      },
      "source": [
        "##### create report of your model"
      ]
    },
    {
      "cell_type": "code",
      "execution_count": 45,
      "metadata": {
        "id": "x8YFOAnuzas4",
        "outputId": "3bed29de-8651-4972-bf1e-76a3a3d9e698",
        "colab": {
          "base_uri": "https://localhost:8080/"
        }
      },
      "outputs": [
        {
          "output_type": "stream",
          "name": "stdout",
          "text": [
            "              precision    recall  f1-score   support\n",
            "\n",
            "         0.0       0.58      0.29      0.39     22238\n",
            "         1.0       0.84      0.94      0.89    123203\n",
            "         2.0       0.82      0.68      0.75     20709\n",
            "\n",
            "    accuracy                           0.82    166150\n",
            "   macro avg       0.75      0.64      0.67    166150\n",
            "weighted avg       0.80      0.82      0.80    166150\n",
            "\n"
          ]
        }
      ],
      "source": [
        "from sklearn.metrics import classification_report\n",
        "print(classification_report(y_test,y_pred))"
      ]
    },
    {
      "cell_type": "code",
      "execution_count": 45,
      "metadata": {
        "id": "db3MNK4Tzas4"
      },
      "outputs": [],
      "source": []
    },
    {
      "cell_type": "code",
      "execution_count": 45,
      "metadata": {
        "id": "qRMc9mkHzas4"
      },
      "outputs": [],
      "source": []
    }
  ],
  "metadata": {
    "kernelspec": {
      "display_name": "Python 3",
      "language": "python",
      "name": "python3"
    },
    "language_info": {
      "codemirror_mode": {
        "name": "ipython",
        "version": 3
      },
      "file_extension": ".py",
      "mimetype": "text/x-python",
      "name": "python",
      "nbconvert_exporter": "python",
      "pygments_lexer": "ipython3",
      "version": "3.7.4"
    },
    "colab": {
      "provenance": [],
      "include_colab_link": true
    }
  },
  "nbformat": 4,
  "nbformat_minor": 0
}